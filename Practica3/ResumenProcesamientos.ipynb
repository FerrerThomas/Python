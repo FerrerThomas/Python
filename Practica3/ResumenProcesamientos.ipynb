{
 "cells": [
  {
   "cell_type": "markdown",
   "metadata": {},
   "source": [
    " ###  $ >Resumen - Procesamientos $  ### \n"
   ]
  },
  {
   "cell_type": "markdown",
   "metadata": {},
   "source": [
    "---"
   ]
  },
  {
   "cell_type": "markdown",
   "metadata": {},
   "source": [
    "$ Procesamiento - 1 $"
   ]
  },
  {
   "cell_type": "code",
   "execution_count": null,
   "metadata": {},
   "outputs": [],
   "source": [
    "def load_headers(headers):\n",
    "    \"\"\"\n",
    "    Carga dos nuevos datos a los indices\n",
    "\n",
    "    args:\n",
    "        headers (list): lista de con los indices del archivo\n",
    "    \"\"\"\n",
    "    headers.append('elevation_name') \n",
    "    headers.append('prov_name')\n",
    "    return headers\n",
    "\n",
    "def calculate_height(height):\n",
    "    \"\"\"\n",
    "    Compara el dato recibido y retorna x resultado segun en que sector este dicho dato\n",
    "\n",
    "    args:\n",
    "        height (int): altura a compar\n",
    "    \"\"\"\n",
    "    if (not height):\n",
    "        return 'Sin Datos'\n",
    "    height = int(height)\n",
    "    if (height <= 131):\n",
    "        return 'bajo'\n",
    "    elif (131 < height <= 903):\n",
    "        return 'medio'\n",
    "    else:\n",
    "        return 'altos'\n",
    "\n",
    "def search_province(municipality,citys):\n",
    "    \"\"\"\n",
    "    Compara dos datos, si son iguales retorna la provincia de la ciudad, sino recortan que no se la encontro\n",
    "\n",
    "    args:\n",
    "        municipality(string): municipalidad del aeropuerto\n",
    "        citys(list): lista de ciudades con tus respectivos datos\n",
    "    \"\"\"\n",
    "    end = False\n",
    "    for city in citys[1:]:\n",
    "        if municipality.lower() == city[0].lower():  \n",
    "            province = city[5]  \n",
    "            end = True\n",
    "            return province\n",
    "    if not end:\n",
    "        return 'No encontrada'\n",
    "\n",
    "def processing_1(airports_original,citys_original,airports_modified): \n",
    "    \"\"\"\n",
    "    Procesa el archivo original de aeropuertos y realiza los cambios necesarios utilizando datos ingresados\n",
    "    por teclado, comparando en otro archivo (ciudades) y guarda la informacion modificada en el nuevo archivo\n",
    "\n",
    "    args:\n",
    "        airports_original(string): ruta del archivo original de aeropuertos\n",
    "        citys_original(string): ruta del archivo original de ciudades\n",
    "        airports_modified(string): ruta del nuevo archivo modificado de aeropuertos\n",
    "    \"\"\"\n",
    "    with (airports_original.open(mode='r', encoding='utf 8') as read_airports,\n",
    "          citys_original.open(mode='r', encoding='utf 8') as read_citys, \n",
    "          airports_modified.open(mode='w', encoding='utf 8',newline='') as wrile_new_airports): \n",
    "        reader_airports = csv.reader(read_airports) \n",
    "        reader_citys = csv.reader(read_citys)  \n",
    "        writer = csv.writer(wrile_new_airports) \n",
    "\n",
    "        citys = []\n",
    "        for i in reader_citys:\n",
    "            citys.append(i)\n",
    "\n",
    "        headers = load_headers(next(reader_airports)) \n",
    "        writer.writerow(headers) \n",
    "        \n",
    "        for airports in reader_airports: \n",
    "            height = (airports[6]) \n",
    "            municipality = airports[13]\n",
    "            provincia = search_province(municipality,citys)\n",
    "            dato_height = calculate_height(height) \n",
    "            airports.append(dato_height) \n",
    "            airports.append(provincia)\n",
    "            writer.writerow(airports) "
   ]
  },
  {
   "cell_type": "markdown",
   "metadata": {},
   "source": [
    "1. `Usar csv.DictReader y csv.DictWriter:` En lugar de trabajar con listas índice en csv.reader y csv.writer, podrías considerar usar csv.DictReader y csv.DictWriter. Esto te permitiría acceder a las columnas por su nombre en lugar de su índice, lo que hace que el código sea más legible y menos propenso a errores si se reorganizan las columnas en el archivo CSV.\n",
    "\n",
    "3. `Manejar Excepciones:` Puedes agregar manejo de excepciones para capturar posibles errores al abrir o procesar los archivos CSV.\n",
    "\n",
    "6. `Separación de Funciones:` Si deseas modularizar aún más tu código, podrías dividir algunas partes de la función processing_1 en funciones separadas para mejorar la legibilidad y facilitar la reutilización del código."
   ]
  },
  {
   "cell_type": "markdown",
   "metadata": {},
   "source": [
    "2. `Usar un Generador para la Lista de Ciudades:` En lugar de crear una lista completa de ciudades en memoria (citys), podrías usar un generador para iterar sobre las ciudades. Esto puede ser más eficiente en términos de uso de memoria, especialmente si el archivo de ciudades es grande."
   ]
  },
  {
   "cell_type": "code",
   "execution_count": null,
   "metadata": {},
   "outputs": [],
   "source": [
    "def load_city_data(citys_file):\n",
    "    \"\"\"\n",
    "    Carga los datos de ciudades utilizando un generador\n",
    "\n",
    "    Args:\n",
    "        citys_file (file): Archivo CSV de ciudades\n",
    "\n",
    "    Yields:\n",
    "        tuple: Tupla con los datos de una ciudad\n",
    "    \"\"\"\n",
    "    with citys_file.open(mode='r', encoding='utf-8') as read_citys:\n",
    "        reader_citys = csv.reader(read_citys)\n",
    "        # Saltar la primera línea si es un encabezado\n",
    "        next(reader_citys, None)\n",
    "        for city in reader_citys:\n",
    "             yield tuple(city)"
   ]
  },
  {
   "cell_type": "markdown",
   "metadata": {},
   "source": [
    "4. `Optimizar Búsqueda de Provincia:` Si el archivo de ciudades es grande y la búsqueda de la provincia se vuelve lenta, podrías considerar usar un diccionario para mapear directamente las municipalidades a las provincias. Esto aceleraría la búsqueda."
   ]
  },
  {
   "cell_type": "code",
   "execution_count": null,
   "metadata": {},
   "outputs": [],
   "source": [
    "def search_province(municipality, city_dict):\n",
    "    return city_dict.get(municipality.lower(), 'No encontrada')\n",
    "\n",
    "city_dict = {}\n",
    "with open(citys_original, mode='r', encoding='utf-8') as read_citys:\n",
    "    reader_citys = csv.reader(read_citys)\n",
    "    next(reader_citys)  # Saltar la primera fila si es el encabezado\n",
    "    for city in reader_citys:\n",
    "        city_dict[city[0].lower()] = city[5]  # Guardar el nombre de la ciudad en minúsculas como clave\n",
    "\n",
    "provincia = search_province(municipality, city_dict)"
   ]
  },
  {
   "cell_type": "markdown",
   "metadata": {},
   "source": [
    "Tambien se puede optimizar el bucle for al utilizar un for-else, lo que te permite reducir el uso de la variable end y mejorar la legibilidad del código. Esto elimina la necesidad de la variable end."
   ]
  },
  {
   "cell_type": "code",
   "execution_count": null,
   "metadata": {},
   "outputs": [],
   "source": [
    "def search_province(municipality,citys):\n",
    "    for city in cities[1:]:\n",
    "        if municipality.lower() == city['city'].lower():\n",
    "            return city['admin_name']\n",
    "    else:\n",
    "        return 'No encontrada'"
   ]
  },
  {
   "cell_type": "markdown",
   "metadata": {},
   "source": [
    "Tambien con la implementacion de un filter"
   ]
  },
  {
   "cell_type": "code",
   "execution_count": null,
   "metadata": {},
   "outputs": [],
   "source": [
    "def search_province(municipality, citys):\n",
    "    #si encuentro coincidencia devuelve la ciudaden result, sino result queda vacio \n",
    "    result = list(filter(lambda city: city[0].lower() == municipality.lower(), citys))\n",
    "    if result:\n",
    "        return result[0][5]  # Devuelve la provincia si se encontró la ciudad\n",
    "    else:\n",
    "        return 'No encontrada'  # Devuelve este mensaje si la ciudad no está en la lista\n"
   ]
  },
  {
   "cell_type": "markdown",
   "metadata": {},
   "source": [
    "5. `Validación de Datos de Altura:` Antes de calcular la altura, podrías agregar una validación para asegurarte de que los datos de altura sean válidos antes de intentar convertirlos a entero."
   ]
  },
  {
   "cell_type": "code",
   "execution_count": null,
   "metadata": {},
   "outputs": [],
   "source": [
    "def get_valid_integer(prompt):\n",
    "    \"\"\"\n",
    "    Solicita al usuario un entero válido y devuelve ese entero.\n",
    "\n",
    "    Args:\n",
    "        prompt (str): El mensaje que se muestra al usuario para solicitar el valor.\n",
    "\n",
    "    Returns:\n",
    "        int: El entero ingresado por el usuario.\n",
    "    \"\"\"\n",
    "    while True:\n",
    "        try:\n",
    "            value = int(input(prompt))\n",
    "            return value\n",
    "        except ValueError:\n",
    "            print(\"Error: Debes ingresar un número entero válido.\")\n",
    "\n",
    "# Ejemplo de uso:\n",
    "altura = get_valid_integer(\"Ingrese la altura: \")\n",
    "print(\"Gracias por ingresar un entero válido:\", altura)\n"
   ]
  },
  {
   "cell_type": "markdown",
   "metadata": {},
   "source": [
    "---"
   ]
  },
  {
   "cell_type": "markdown",
   "metadata": {},
   "source": [
    "$ Procesamiento - 3 $"
   ]
  },
  {
   "cell_type": "code",
   "execution_count": null,
   "metadata": {},
   "outputs": [],
   "source": [
    "def define_size(num):\n",
    "\n",
    "    \"\"\"\n",
    "    Retorna una cadena string segun el tamaño de la superficie del lago.\n",
    "    args:\n",
    "        num (int) : Tamaño de la superficie del lago.\n",
    "     returns\n",
    "        string.\n",
    "    \"\"\"\n",
    "\n",
    "    if (num <= 17):\n",
    "        return 'chico'\n",
    "    elif (num > 17 and num <= 59):\n",
    "            return 'medio'\n",
    "    else:\n",
    "        return 'grande'\n",
    "        \n",
    "def calculate_coordinate(coordinate):\n",
    "\n",
    "    \"\"\"\n",
    "    Retorna la coordenada en formato de grados decimales (GD).\n",
    "    args:\n",
    "        coordinate (string) : Cadena de caracteres que representa una coordenada (longitud o latitud).\n",
    "     returns\n",
    "        float.\n",
    "    \"\"\"\n",
    "\n",
    "    numbers = re.findall(r'\\d+', coordinate)\n",
    "    return int (numbers[0]) + (int(numbers[1]) / 60) + (int(numbers[2]) / 3600)\n",
    "\n",
    "def processing_3(reader_path, writer_path):\n",
    "\n",
    "    \"\"\"\n",
    "    Recorre el archivo original de lagos mientras crea uno nuevo modificado agregando 3 columnas (\"Sup Tamaño\",\"latitud\",\"longitud\")\n",
    "    y los valores que rellenan dichas columnas.\n",
    "    args:\n",
    "        reader_path (string) : Ruta del archivo de lagos original.\n",
    "        writer_path (string) : Ruta del archivo de lagos modificado.\n",
    "    \"\"\"\n",
    "\n",
    "    # Apertura punto 1 {\n",
    "\n",
    "    with (\n",
    "            reader_path.open(mode='r', encoding='utf-8') as file_r,\n",
    "            writer_path.open(mode='w', encoding='utf-8', newline='') as file_w\n",
    "        ):\n",
    "        reader = csv.reader (file_r)\n",
    "        writer = csv.writer (file_w)\n",
    "\n",
    "    # } Cierre punto 1\n",
    "    # Apertura punto 2 { \n",
    "\n",
    "        SUPERFICIE = 2\n",
    "        COORDENADAS = 5\n",
    "\n",
    "    # } Cierre punto 2\n",
    "    # Apertura punto 3 {\n",
    "\n",
    "        header = next (reader)\n",
    "        header.append('Sup Tamaño')\n",
    "        header.append('Latitud')\n",
    "        header.append('Longitud')\n",
    "        writer.writerow (header)\n",
    "\n",
    "    # } Cierre punto 3\n",
    "    # Apertura punto 4 {\n",
    "\n",
    "        for line in reader:\n",
    "            num = int (line[SUPERFICIE])\n",
    "            coord = line[COORDENADAS].split(' ')\n",
    "            line.append(define_size(num))\n",
    "            line.append(calculate_coordinate(coord[0]))\n",
    "            line.append(calculate_coordinate(coord[1]))\n",
    "            writer.writerow (line)"
   ]
  },
  {
   "cell_type": "markdown",
   "metadata": {},
   "source": [
    "1. La expresión `re.findall(r'\\d+', coordinate)` busca todas las secuencias de dígitos en la cadena coordinate y devuelve una lista con esas secuencias encontradas. Por ejemplo, si coordinate es \"45°30'15\", re.findall(r'\\d+', coordinate) devolverá ['45', '30', '15']"
   ]
  },
  {
   "cell_type": "markdown",
   "metadata": {},
   "source": [
    "2. En la `carga de headers` se podria optimizar de la siguiente manera (solo si se el archivo de lectura esta abierto en forma de diccionario)"
   ]
  },
  {
   "cell_type": "code",
   "execution_count": null,
   "metadata": {},
   "outputs": [],
   "source": [
    "writer.writerow(reader.fieldnames + ['Sup Tamaño', 'Latitud', 'Longitud'])"
   ]
  },
  {
   "cell_type": "markdown",
   "metadata": {},
   "source": [
    "3. Tambien si `los dos archivos eran diccionarios` se podria plantear estas modificaciones"
   ]
  },
  {
   "cell_type": "code",
   "execution_count": null,
   "metadata": {},
   "outputs": [],
   "source": [
    "def processing_3(reader_path, writer_path):\n",
    "    \"\"\"Recorre el archivo original de lagos mientras crea uno nuevo modificado.\"\"\"\n",
    "    with reader_path.open(mode='r', encoding='utf-8') as file_r, \\\n",
    "         writer_path.open(mode='w', encoding='utf-8', newline='') as file_w:\n",
    "        reader = csv.DictReader(file_r)\n",
    "        writer = csv.DictWriter(file_w, fieldnames=reader.fieldnames + ['Sup Tamaño', 'Latitud', 'Longitud']) # agrego columnas es decir claves\n",
    "        writer.writeheader()\n",
    "\n",
    "        for line in reader:\n",
    "            num = int(line['Superficie'])\n",
    "            coord = line['Coordenadas'].split(' ')\n",
    "            line['Sup Tamaño'] = define_size(num) # agrego nueva clave (es decir columna) con su valor\n",
    "            line['Latitud'] = calculate_coordinate(coord[0])\n",
    "            line['Longitud'] = calculate_coordinate(coord[1])\n",
    "            writer.writerow(line)"
   ]
  },
  {
   "cell_type": "markdown",
   "metadata": {},
   "source": [
    "---"
   ]
  },
  {
   "cell_type": "markdown",
   "metadata": {},
   "source": [
    "$ Procesamiento - 3 $"
   ]
  },
  {
   "cell_type": "code",
   "execution_count": null,
   "metadata": {},
   "outputs": [],
   "source": [
    "def conectivity (line):\n",
    "        '''\n",
    "         Determina si una línea tiene conectividad en alguna de las categorías especificadas.\n",
    "\n",
    "        Recibe:\n",
    "        - line: Diccionario que representa una línea de datos del archivo CSV original.\n",
    "\n",
    "        Retorna:\n",
    "        - \"SI\" si alguna columna tiene un valor diferente de \"--\", o \"NO\" de lo contrario.\n",
    "        '''\n",
    "        return \"SI\" if any(line[key].strip() != \"--\" for key in TYPES_OF_CONECTIVITIES) else \"NO\"\n",
    "\n",
    "def change (line):\n",
    "        '''\n",
    "        Reemplaza los valores \"--\" por \"NO\" en todas las columnas de una línea.\n",
    "\n",
    "        Recibe:\n",
    "        - line: Un diccionario que representa una línea de datos del archivo CSV original.\n",
    "\n",
    "        Retorna:\n",
    "        - Una versión modificada de la línea con los valores \"--\" reemplazados por \"NO\".\n",
    "        '''\n",
    "        for key in line:\n",
    "                if line[key].strip() == \"--\":\n",
    "                        line[key]=\"NO\"\n",
    "        return line               \n",
    "\n",
    "def processing_2(read_dataset,write_dataset):\n",
    "        '''\n",
    "        Toma un archivo CSV y genera un nuevo archivo CSV modificado y con una columna adicional (\"posee_conectividad\").\n",
    "        \n",
    "        Recibe:\n",
    "        - read_dataset: El Pathlib con la ruta del archivo de entrada CSV.\n",
    "        - write_dataset: El Pathlib con la ruta del archivo de salida CSV.\n",
    "        '''\n",
    "        with (\n",
    "                read_dataset.open (mode = \"r\", encoding = \"utf-8\") as read_file,\\\n",
    "                write_dataset.open (mode = \"w\", encoding = \"utf-8\", newline='') as write_file\n",
    "                ):\n",
    "\n",
    "                reader = csv.DictReader(read_file)\n",
    "                writer = csv.DictWriter(write_file, fieldnames=reader.fieldnames + [\"posee_conectividad\"])\n",
    "\n",
    "                writer.writeheader()\n",
    "\n",
    "                for line in reader:\n",
    "                        line[\"posee_conectividad\"] = conectivity(line)\n",
    "                        line = change (line)\n",
    "                   \n",
    "                        writer.writerow(line)"
   ]
  },
  {
   "cell_type": "markdown",
   "metadata": {},
   "source": [
    "1. `any()` se utiliza para verificar si al menos uno de los valores en el diccionario line no es igual a \"--\", lo que indica que hay conectividad en alguna de las categorías especificadas. Si any() encuentra al menos un valor distinto de \"--\", la función retorna \"SI\" (true), de lo contrario, retorna \"NO\"(false)"
   ]
  },
  {
   "cell_type": "markdown",
   "metadata": {},
   "source": [
    "2. se podria hace rmas compacta la funcion `change()`"
   ]
  },
  {
   "cell_type": "code",
   "execution_count": null,
   "metadata": {},
   "outputs": [],
   "source": [
    "def change(line):\n",
    "\n",
    "    return {key: \"NO\" if value.strip() == \"--\" else value for key, value in line.items()}\n",
    "\n",
    "# La expresión {key: \"NO\" if value.strip() == \"--\" else value for key, value in line.items()} \n",
    "# itera sobre todas las claves y valores del diccionario line y crea un nuevo diccionario donde los valores \"--\" se reemplazan por \"NO\" y los demás valores se mantienen iguales."
   ]
  },
  {
   "cell_type": "markdown",
   "metadata": {},
   "source": [
    "---"
   ]
  },
  {
   "cell_type": "markdown",
   "metadata": {},
   "source": [
    "$ Procesamiento - 4 $"
   ]
  },
  {
   "cell_type": "code",
   "execution_count": null,
   "metadata": {},
   "outputs": [],
   "source": [
    "def replace_simbols(line):\n",
    "    \"\"\"\n",
    "    Reemplaza los simbolos /// y - de la fila del archivo recibida\n",
    "    por 0\n",
    "    args:\n",
    "        line (list): Lista con una fila del archivo\n",
    "    \"\"\"\n",
    "    return [0 if elem in ['///', '-'] else elem for elem in line]\n",
    "\n",
    "def calc_percentage(total_population, total_homeless):\n",
    "    \"\"\"\n",
    "    Calcula el porcentaje de poblacion en situacion de calle\n",
    "    args:\n",
    "        total_population (int): Cantidad total de poblacion\n",
    "        total_homeless (int): Cantidad de poblacion en situacion de calle\n",
    "    \"\"\"\n",
    "    if (total_homeless == 0):\n",
    "        return 0\n",
    "    return ((total_homeless / total_population) * 100)\n",
    "\n",
    "def processing_4(original_path,new_path):\n",
    "    \"\"\"\n",
    "    Procesa el archivo original realizando los cambios solicitados\n",
    "    y guarda la informacion modificada dentro del nuevo archivo\n",
    "    args:\n",
    "        original_path (string): Ruta del archivo original\n",
    "        new_path (string): Ruta del nuevo archivo\n",
    "    \"\"\"\n",
    "    POPULATION_POS = 1 # Constante - Posicion de la columna Poblacion Total\n",
    "    HOMELESS_POS = 4 # Constante - Posicion de la columna Poblacion en Situacion de Calle\n",
    "    \n",
    "    with (\n",
    "        original_path.open(mode = 'r', encoding='utf-8') as file_r,\n",
    "        new_path.open(mode = 'w', encoding='utf-8', newline='') as file_w\n",
    "    ):\n",
    "        reader = csv.reader(file_r)\n",
    "        writer = csv.writer(file_w)\n",
    "        \n",
    "        header = next(reader)\n",
    "        header.append('Porcentaje en Situacion de Calle')\n",
    "        writer.writerow(header)\n",
    "        for line in reader:\n",
    "            line = replace_simbols(line)\n",
    "\n",
    "            percentage = calc_percentage(int(line[POPULATION_POS]),int(line[HOMELESS_POS]))\n",
    "            line.append(f\"{percentage:.2f}%\")\n",
    "\n",
    "            writer.writerow(line)"
   ]
  },
  {
   "cell_type": "markdown",
   "metadata": {},
   "source": [
    "1. `calc_percentage()` se podria simplicar con un lamda y asi crear el mismo resultado en el main del proceso por ejemplo"
   ]
  },
  {
   "cell_type": "code",
   "execution_count": null,
   "metadata": {},
   "outputs": [],
   "source": [
    "calc = lambda total_population, total_homeless: (total_homeless / total_population) * 100 if total_homeless != 0 else 0"
   ]
  }
 ],
 "metadata": {
  "language_info": {
   "name": "python"
  }
 },
 "nbformat": 4,
 "nbformat_minor": 2
}
