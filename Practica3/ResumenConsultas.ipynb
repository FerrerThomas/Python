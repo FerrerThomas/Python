{
 "cells": [
  {
   "cell_type": "markdown",
   "metadata": {},
   "source": [
    " ###  $ >Resumen - Consultas $  ### "
   ]
  },
  {
   "cell_type": "markdown",
   "metadata": {},
   "source": [
    "---"
   ]
  },
  {
   "cell_type": "markdown",
   "metadata": {},
   "source": [
    "$ Consulta - 1 $"
   ]
  },
  {
   "cell_type": "code",
   "execution_count": null,
   "metadata": {},
   "outputs": [],
   "source": [
    "def querie_1(address):\n",
    "    \"\"\"\n",
    "    Crea una lista con los aeropuertos, filtra solo los tipos y los muestra en pantalla\n",
    "\n",
    "    args:\n",
    "        address(address): direccion del archivo de aeropuertos a procesar\n",
    "    \"\"\"\n",
    "    with open(address, mode='r', encoding='utf-8') as archive:\n",
    "        airports = csv.reader(archive)\n",
    "        next(airports) \n",
    "        list_zip = list(zip(*airports)) \n",
    "        types_airports = set(list_zip[TYPE])\n",
    "    \n",
    "    print('| Tipos de airports |')\n",
    "    for one_type in types_airports:\n",
    "        print(f'•{one_type}')"
   ]
  },
  {
   "cell_type": "markdown",
   "metadata": {},
   "source": [
    "1. `list_zip = list(zip(*airports))` lo que hace esto linea es *airports se desemparqueta y se le pasa cada iterable de airports al zip(),cada elemento es una fila del archivo. Lo que hace basicamente es poner las `filas en columnas`.\n",
    "\n",
    "    obtienes un objeto zip que contiene tuplas donde cada tupla representa una columna del archivo. y lo convertis con list en una lista de tuplas donde cada tupla e suna columna del archivo"
   ]
  },
  {
   "cell_type": "markdown",
   "metadata": {},
   "source": [
    "2. `types_airports = set(list_zip[TYPE])` aca se procesa la columna (de la lista de columnas) que contiene los typos, y se crea un conjunto (set) donde se guarda todos los typos sin repetidos."
   ]
  },
  {
   "cell_type": "markdown",
   "metadata": {},
   "source": [
    "-----"
   ]
  },
  {
   "cell_type": "markdown",
   "metadata": {},
   "source": [
    "$ Consulta - 2 $"
   ]
  },
  {
   "cell_type": "code",
   "execution_count": null,
   "metadata": {},
   "outputs": [],
   "source": [
    "def show_airports(address,selected_option): \n",
    "    \"\"\"\n",
    "    Recibe un string, e imprime los aeropuertos que con una elavation_name igual a dicho string\n",
    "\n",
    "    args:\n",
    "        address(address): direccion del archivo de aeropuertos a procesar\n",
    "        selected_option(string): opcion elegida por el usuario (bajo,medio,altos) a filtrar\n",
    "    \"\"\"\n",
    "    with open(address, mode='r', encoding='utf-8') as archive:\n",
    "        airports = csv.DictReader(archive)\n",
    "        print_airports(filter(lambda airport: airport['elevation_name'] == selected_option, airports))\n",
    "\n",
    "def print_airports(airports):\n",
    "    \"\"\"\n",
    "    Recibe e imprime con formato de tabla\n",
    "\n",
    "    args:\n",
    "        airports(list): lista de aeropuertos a mostrar\n",
    "    \"\"\"\n",
    "    print(tabulate(airports, headers='keys',tablefmt='psql'))\n",
    "\n",
    "def querie_2(address):\n",
    "    \"\"\"\n",
    "    Menu de opciones, segun la opcion elegida se filtra y se muestran los aeropuertos con esa caracteristica\n",
    "\n",
    "    args:\n",
    "        address(address): direccion del archivo de aeropuertos a procesar\n",
    "    \"\"\"\n",
    "    end=False\n",
    "    while not end:\n",
    "        selected_option = (input(\"\"\"Ingresar que elevacion quiere buscar: \n",
    "                          bajo: menos o igual a 131 ft\n",
    "                          medio: mayor a 131 pero menos o igual a 903 ft\n",
    "                          altos: mayor a 903 ft\n",
    "                        \n",
    "                          end: terminar programa\n",
    "                Opcion:\"\"\")).lower()\n",
    "        if selected_option == 'fin':\n",
    "            end=True\n",
    "            print('| Impresión terminada |')\n",
    "        elif selected_option in ['bajo','medio','altos']:\n",
    "            print(f'Mostrando airport con height {selected_option}')\n",
    "            show_airports(address,selected_option)\n",
    "        else:\n",
    "            print('| ERROR | Opcion invalida... Ingrese de nuevo')"
   ]
  },
  {
   "cell_type": "markdown",
   "metadata": {},
   "source": [
    "1. Cometi un error en el codigo ya que al cambiar las variables a español `cambie por error 'fin' por 'end'` en el input por lo tanto el usuario nunca va a poder terminar el programa con end, deberia ingresar fin."
   ]
  },
  {
   "cell_type": "markdown",
   "metadata": {},
   "source": [
    "2. `print_airports(filter(lambda airport: airport['elevation_name'] == selected_option, airports))` esto lo que hace es: el lamda toma como argumento un aeropuerto y devuelve true si la opcion elegida es igual a elevation_name (bajo,medio,altos)... el filter usa los dos argumentos, la funcion lambda y el iterable de aeropuertos, esto itera y se queda con los true de lambda\n"
   ]
  },
  {
   "cell_type": "markdown",
   "metadata": {},
   "source": [
    "---"
   ]
  },
  {
   "cell_type": "markdown",
   "metadata": {},
   "source": [
    "$ Consulta - 3 $"
   ]
  },
  {
   "cell_type": "code",
   "execution_count": null,
   "metadata": {},
   "outputs": [],
   "source": [
    "def search_minor_major(address,height):\n",
    "    \"\"\"\n",
    "    Recibe una altura y filtra en dos listas diferentes los aeropuertos que tengan menor y mayor altura  a la recibida\n",
    "\n",
    "    args:\n",
    "        address(address): direccion del archivo de aeropuertos a procesar\n",
    "        height(int): altura a filtrar ingresada por el usuario\n",
    "    \"\"\"\n",
    "    with open(address, mode='r', encoding='utf-8') as archive:\n",
    "        airports = csv.DictReader(archive)\n",
    "        airportss = list(airports)\n",
    "        major = list(filter(lambda airport: int(airport['elevation_ft'] or 0) > height, airportss ))\n",
    "        minor = list(filter(lambda airport: int(airport['elevation_ft'] or 0) < height, airportss ))\n",
    "        return major,minor\n",
    "\n",
    "\n",
    "def print_airports(airports):\n",
    "    \"\"\"\n",
    "    Recibe e imprime con formato de tabla\n",
    "\n",
    "    args:\n",
    "        airports(list): lista de aeropuertos a mostrar\n",
    "    \"\"\"\n",
    "    print(tabulate(airports, headers='keys',tablefmt='psql'))\n",
    "\n",
    "\n",
    "def querie_3(address):\n",
    "    \"\"\"\n",
    "    Menu de opciones, segun al opcion busca, filtra e imprime mayores o menos a una altura ingresada\n",
    "\n",
    "    args:\n",
    "        address(address): direccion del archivo de aeropuertos a procesar\n",
    "    \"\"\"\n",
    "    end=False\n",
    "    while not end:\n",
    "        try:\n",
    "            height_elegida = int(input(\"Ingresar la elevacion con la cual quiere trabajar:\"))\n",
    "            while not end:\n",
    "                selected_option = input(f\"\"\"Ingresar que airports quiere mostrar: \n",
    "                                1: airports con elevacion menor a {height_elegida}\n",
    "                                2: airports con elevacion mayor a {height_elegida}\n",
    "                                3: airports con elevacion menor y mayor a {height_elegida}\n",
    "                        Opcion:\"\"\")\n",
    "                if selected_option in ['1','2','3']:\n",
    "                    end=True\n",
    "                    major,minor = search_minor_major(address,height_elegida)\n",
    "                    if selected_option == '1':\n",
    "                        print(f'| airports con elevacion MENOR a {height_elegida} |')\n",
    "                        print_airports(minor)\n",
    "                    elif selected_option == '2':\n",
    "                        print(f'| airports con elevacion MAYOR a {height_elegida} |')\n",
    "                        print_airports(major)\n",
    "                    else:\n",
    "                        print(f'| airports con elevacion MENOR a {height_elegida} |')\n",
    "                        print_airports(minor)\n",
    "                        print(f'| airports con elevacion MAYOR a {height_elegida} |')\n",
    "                        print_airports(major)\n",
    "                else:\n",
    "                    print('Opcion no valida, ingrese de nuevo')\n",
    "        except ValueError:\n",
    "            print('No ingreso un valor valido (numerico)')\n",
    "    print('| Impresión terminada |')"
   ]
  },
  {
   "cell_type": "markdown",
   "metadata": {},
   "source": [
    "1. Pregunta para el profesor, en `search_minor_major()` que seria mas eficiente ? los dos filter o un for iterando los aeropuertos con un if-elif dentro separando los mayores y los mejores en listas (append)"
   ]
  },
  {
   "cell_type": "markdown",
   "metadata": {},
   "source": [
    "2.  `minor = list(filter(lambda airport: int(airport['elevation_ft'] or 0) < height, airportss ))` se guarda uan lista de aeropuertos, que la obtiene con filter    (selecciona los aeropuertos que cumplen con la funcion lamda) \n",
    "\n",
    "    Y la exprecion `int(airport['elevation_ft'] or 0)` convierte el la elevaciona  entera y si este dato es vacio o none le asigna el valor '0' "
   ]
  },
  {
   "cell_type": "markdown",
   "metadata": {},
   "source": [
    "---"
   ]
  },
  {
   "cell_type": "markdown",
   "metadata": {},
   "source": [
    "$ Consulta - 4 $"
   ]
  },
  {
   "cell_type": "code",
   "execution_count": null,
   "metadata": {},
   "outputs": [],
   "source": [
    "def inform_airports_by_province (province, airport_data):\n",
    "\n",
    "    \"\"\"\n",
    "    Imprime los nombres de aeropuertos de la provincia 'province'\n",
    "    args:\n",
    "        province (string) : Una provincia de la lista de provincias con mayor/menor poblacion que la solicitada por el usuario.\n",
    "        airport_data (list) : Es la lista de aeropuertos en la cual se buscan e informan los que se encuentren en la provincia 'province'\n",
    "    \"\"\"\n",
    "\n",
    "    print ('')\n",
    "    airport_results = map(lambda line: f'Aeropuerto {line[\"name\"]} de {line[\"prov_name\"]}', filter(lambda line: unidecode(line[\"prov_name\"].lower()) == province, airport_data))\n",
    "    for item in airport_results:\n",
    "        print(item)\n",
    "    print ('')\n",
    "\n",
    "def inform_lakes_by_province (province, lake_data):\n",
    "\n",
    "    \"\"\"\n",
    "    Imprime los nombres de lagos de la provincia 'province'\n",
    "    args:\n",
    "        province (string) : Una provincia de la lista de provincias con mayor/menor poblacion que la solicitada por el usuario.\n",
    "        lake_data (list) : Es la lista de lagos en la cual se buscan e informan los que se encuentren en la provincia 'province'\n",
    "    \"\"\"\n",
    "\n",
    "    print ('')\n",
    "    lake_results = map(lambda line: f'{line[\"Nombre\"]} de {line[\"Ubicación\"]}', filter(lambda line: unidecode(line[\"Ubicación\"].lower()) == province, lake_data))\n",
    "    for item in lake_results:\n",
    "        print(item)\n",
    "    print ('')\n",
    "\n",
    "def inform_connectivity_by_province (province, connectivity_data, types_of_conectivities):\n",
    "\n",
    "    \"\"\"\n",
    "    Imprime los tipos de conectividad de la provincia 'province'\n",
    "    args:\n",
    "        province (string) : Una provincia de la lista de provincias con mayor/menor poblacion que la solicitada por el usuario.\n",
    "        connectivity_data (list) : Es la lista de conectividad en la cual se busca e informa la conectividad de la provincia 'province'\n",
    "        types_of_conectivities (list) : Es una lista con los tipos de conectividades posibles.\n",
    "    \"\"\"\n",
    "\n",
    "    connectivity_by_province = {}\n",
    "    for line in connectivity_data:\n",
    "        if (unidecode(line[\"Provincia\"].lower()) == province):\n",
    "            for connectivity in types_of_conectivities:  # Iterar a través de tipos de conectividad\n",
    "                if connectivity not in connectivity_by_province or line[connectivity] == \"SI\":\n",
    "                    connectivity_by_province[connectivity] = line[connectivity]\n",
    "    print (f'Tipos de conectividad en {province}: {connectivity_by_province}')\n",
    "    print ('')\n",
    "\n",
    "\n",
    "def querie_4 (airport_path, lake_path, connectivity_path, census_path, types_of_conectivities):\n",
    "\n",
    "    \"\"\"\n",
    "    Recorre el archivo del censo 2022 buscando las provincias con mayor/menor poblacion que la solicitada por el usuario, luego recorre los archivos\n",
    "    de aeropuertos lagos y conectividad e informa lo requerido.\n",
    "    args:\n",
    "        airport_path (string) : Ruta del archivo de aeropuertos modificado.\n",
    "        lake_path (string) : Ruta del archivo de lagos modificado.\n",
    "        connectivity_path (string) : Ruta del archivo de conectividad modificado.\n",
    "        census_path (string) : Ruta del archivo de censo modificado.\n",
    "        types_of_conectivities (list) : Es una lista con los tipos de conectividades posibles.\n",
    "    \"\"\"\n",
    "    population_to_search = int (input (\"Ingrese la cantidad de poblacion que desea comparar: \"))\n",
    "    higher_or_lower = input (\"Ingrese - mayor - , si desea buscar los mayores a la cantidad ingresada o - menor - si desea buscar los menores: \")\n",
    "    while (higher_or_lower != \"mayor\" and higher_or_lower != \"menor\"):\n",
    "        higher_or_lower = input (\"ERROR --> Ingrese - mayor - , si desea buscar los mayores a la cantidad ingresada o - menor - si desea buscar los menores: \")\n",
    "    # Apertura punto 1 {\n",
    "\n",
    "    with (\n",
    "        airport_path.open(mode='r', encoding='utf-8') as file_r1,\n",
    "        lake_path.open(mode='r', encoding='utf-8') as file_r2,\n",
    "        connectivity_path.open(mode='r', encoding='utf-8') as file_r3,\n",
    "        census_path.open(mode='r', encoding='utf-8') as file_r4\n",
    "    ):\n",
    "        airport_reader = csv.DictReader(file_r1)\n",
    "        airport_data = list(airport_reader)\n",
    "        lake_reader = csv.DictReader(file_r2)\n",
    "        lake_data = list(lake_reader)\n",
    "        connectivity_reader = csv.DictReader(file_r3)\n",
    "        connectivity_data = list(connectivity_reader)\n",
    "        header = file_r4.readline().strip().split(\",\")      # Guardo el header del archivo.\n",
    "        next (file_r4)                                      # Salteo la linea \"Total del país\" ya que solo me interesa el total de las provincias.\n",
    "        census_reader = csv.DictReader(file_r4,fieldnames=header)\n",
    "\n",
    "\n",
    "        # } Cierre punto 1 \n",
    "        # Apertura punto 2 {\n",
    "\n",
    "        filtered_provinces = [line[\"Jurisdicción\"].strip().lower() for line in census_reader\n",
    "                            if (higher_or_lower == \"mayor\" and int(line[\"Total de población\"]) > population_to_search) or\n",
    "                            (higher_or_lower == \"menor\" and int(line[\"Total de población\"]) < population_to_search)]\n",
    "            \n",
    "        # } Cierre punto 2\n",
    "        # Apertura punto 3 {\n",
    "        \n",
    "        for province in filtered_provinces:\n",
    "\n",
    "            print (f\" ---- Aeropuertos de {province} que poseen {higher_or_lower} poblacion a {population_to_search} ---- \")\n",
    "            inform_airports_by_province (province, airport_data)\n",
    "\n",
    "            print (f\" ---- Lagos de {province} que poseen {higher_or_lower} poblacion a {population_to_search} ---- \")\n",
    "            inform_lakes_by_province (province, lake_data)\n",
    "\n",
    "            inform_connectivity_by_province (province, connectivity_data, types_of_conectivities)\n",
    "                   \n",
    "        # } Cierre punto 3"
   ]
  },
  {
   "cell_type": "markdown",
   "metadata": {},
   "source": [
    "1. `header = file_r4.readline().strip().split(\",\")` se podria usar un next(file_r4) en lugar de file_r4.readline "
   ]
  },
  {
   "cell_type": "markdown",
   "metadata": {},
   "source": [
    "2. Se podria ahorrar el uso de `list` en todos los archivos, y gracias a esto se podrria hacer una funcion unica para informar por provincia :\n",
    "\n",
    "    esta funcion recibe una provincia (del iterador), el iterador del segundo archivo, y el nombre de los indices a trabajar"
   ]
  },
  {
   "cell_type": "code",
   "execution_count": null,
   "metadata": {},
   "outputs": [],
   "source": [
    "def inform_by_province(province, data_reader, name_key, location_key):\n",
    "    print('')\n",
    "    results = map(lambda line: f'{line[name_key]} de {line[location_key]}',\n",
    "                  filter(lambda line: unidecode(line[location_key].lower()) == province, data_reader))\n",
    "    for item in results:\n",
    "        print(item)\n",
    "    print('')"
   ]
  },
  {
   "cell_type": "markdown",
   "metadata": {},
   "source": [
    "3. `results = map(lambda line: f'{line[name_key]} de {line[location_key]}', filter(lambda line: unidecode(line[location_key].lower()) == province, data_reader))`\n",
    "\n",
    "    En resumen, esta línea de código crea un iterable (map object) que contiene las cadenas formateadas que representan la combinación del nombre y la ubicación de los elementos filtrados que cumplen con la condición de provincia especificada.\n",
    "\n",
    "    Con filter filtramos a los que coinciden con la provincia y con map le le aplicamos una funcion al resultado de filter, en este caso a cada linea filtrada crea una cadena formateada.\n"
   ]
  },
  {
   "cell_type": "markdown",
   "metadata": {},
   "source": [
    "---"
   ]
  },
  {
   "cell_type": "markdown",
   "metadata": {},
   "source": [
    "$ Consulta - 5 $"
   ]
  },
  {
   "cell_type": "code",
   "execution_count": null,
   "metadata": {},
   "outputs": [],
   "source": [
    "def inform_airport(airport):\n",
    "    \"\"\"\n",
    "    Imprime por pantalla la informacion de un aeropuerto\n",
    "    args:\n",
    "        airport (dict): Diccionario con informacion del aeropuerto.\n",
    "    \"\"\"\n",
    "    print(\"-\"*40)\n",
    "    print(f\"Aeropuerto {airport['name']}: \")\n",
    "    print(f\"    - Tipo: {airport['type']} \")\n",
    "    print(f\"    - Continente: {airport['continent']} \")\n",
    "    print(f\"    - Pais: {airport['country_name']} \")\n",
    "    print(f\"    - Provincia: {airport['region_name']} \")\n",
    "    print(f\"    - Ciudad: {airport['municipality']} \")\n",
    "    print(\"-\"*40)\n",
    "\n",
    "\n",
    "def querie_5(AIRPORTS_PATH,CITYS_PATH):\n",
    "    \"\"\"\n",
    "    Filtra las capitales de cada provincia y obtiene los aeropuertos de cada\n",
    "    una de estas.\n",
    "    args:\n",
    "        AIRPORTS_PATH (string): Ruta del archivo de aeropuertos.\n",
    "        CITYS_PATH (string): Ruta del archivo de ciudades.\n",
    "    \"\"\"\n",
    "    with (\n",
    "        AIRPORTS_PATH.open(mode = 'r', encoding='utf-8') as a_r,\n",
    "        CITYS_PATH.open(mode = 'r', encoding='utf-8') as c_r\n",
    "    ):\n",
    "        airports_reader = csv.DictReader(a_r)\n",
    "        citys_reader = csv.DictReader(c_r)\n",
    "\n",
    "        capitals = [city[\"city\"] for city in citys_reader if ((city[\"capital\"] == \"admin\") or (city[\"capital\"] == \"primary\"))]\n",
    "        filtered_airports = list(filter(lambda d: d.get('municipality') in capitals, airports_reader))\n",
    "\n",
    "        print(\"Se muestran los aeropuertos de las capitales: \")\n",
    "        for airport in filtered_airports:\n",
    "            inform_airport(airport)"
   ]
  },
  {
   "cell_type": "markdown",
   "metadata": {},
   "source": [
    "1. `capitals = [city[\"city\"] for city in citys_reader if ((city[\"capital\"] == \"admin\") or (city[\"capital\"] == \"primary\"))]` es la comprensión de lista que crea la lista capitals. En esta comprensión de lista, se agrega el nombre de la ciudad a la lista capitals si la ciudad cumple con la condición de ser una capital administrativa o primaria."
   ]
  },
  {
   "cell_type": "markdown",
   "metadata": {},
   "source": [
    "2. `filtered_airports = list(filter(lambda d: d.get('municipality') in capitals, airports_reader))` en resumen, esta línea de código filtra los aeropuertos leídos del archivo CSV y crea una lista llamada filtered_airports que contiene solo los aeropuertos cuya ciudad ('municipality') está presente en la lista de capitales capitals (d es un diccionario)"
   ]
  },
  {
   "cell_type": "markdown",
   "metadata": {},
   "source": [
    "---"
   ]
  },
  {
   "cell_type": "markdown",
   "metadata": {},
   "source": [
    "$ Consulta - 6 $"
   ]
  },
  {
   "cell_type": "code",
   "execution_count": null,
   "metadata": {},
   "outputs": [],
   "source": [
    "def querie_6(lake_path):\n",
    "\n",
    "    \"\"\"\n",
    "    Imprime los lagos del tamaño ingresado por el usuario.\n",
    "    args:\n",
    "        lake_mod_path (string) : Ruta del archivo de lagos modificado.\n",
    "    \"\"\"\n",
    "    size = input ('Ingrese el tamaño (chico, medio, grande) de los lagos que desea informar: ')\n",
    "    while (size != \"chico\" and size != \"medio\" and size != \"grande\"):\n",
    "        size = input ('ERROR --> Ingrese el tamaño (chico, medio, grande) de los lagos que desea informar: ')\n",
    "    # Apertura punto 1 {\n",
    "\n",
    "    with (\n",
    "            lake_path.open(mode='r', encoding='utf-8') as file_r\n",
    "        ):\n",
    "        reader = csv.reader(file_r)\n",
    "\n",
    "    # } Cierre punto 1\n",
    "    # Apertura punto 2 {\n",
    "        \n",
    "        NOMBRE = 0\n",
    "        UBICACION = 1\n",
    "        SUP_TAMAÑO = 6\n",
    "\n",
    "    # } Cierre punto 2\n",
    "    # Apertura punto 3 {\n",
    "\n",
    "        for line in reader:\n",
    "            if (line[SUP_TAMAÑO] == size):\n",
    "                print (f'Nombre: {line[NOMBRE]} | Ubicación: {line[UBICACION]} | Tamaño: {line[SUP_TAMAÑO]}')\n",
    "\n",
    "    # } Cierre punto 3 y fin de la funcion."
   ]
  },
  {
   "cell_type": "markdown",
   "metadata": {},
   "source": [
    "1. el input de `size compararlo con una lista` de opciones validas "
   ]
  },
  {
   "cell_type": "code",
   "execution_count": null,
   "metadata": {},
   "outputs": [],
   "source": [
    "sizes = {\"chico\": \"Pequeño\", \"medio\": \"Mediano\", \"grande\": \"Grande\"}\n",
    "size = input('Ingrese el tamaño (chico, medio, grande) de los lagos que desea informar: ').lower()\n",
    "\n",
    "while size not in sizes:\n",
    "    size = input('ERROR --> Ingrese el tamaño (chico, medio, grande) de los lagos que desea informar: ').lower()\n"
   ]
  },
  {
   "cell_type": "markdown",
   "metadata": {},
   "source": [
    "---"
   ]
  },
  {
   "cell_type": "markdown",
   "metadata": {},
   "source": [
    "$ Consulta - 7 $"
   ]
  },
  {
   "cell_type": "code",
   "execution_count": null,
   "metadata": {},
   "outputs": [],
   "source": [
    "def inform_jurisdiction(jurisdiction):\n",
    "    \"\"\"\n",
    "    Imprime por pantalla la informacion de una jurisdiccion.\n",
    "    args:\n",
    "        jurisdiction (dict): Diccionario con informacion de una jurisdiccion.\n",
    "    \"\"\"\n",
    "    print(\"-\"*30)\n",
    "    print(f\"Jurisdiccion :{jurisdiction['Jurisdicción']}\")\n",
    "    print(f\"    - Porcentaje de poblacion en situacion de calle: {jurisdiction['Porcentaje en Situacion de Calle']}\")\n",
    "    print(\"-\"*30)\n",
    "\n",
    "def querie_7(POPULATION_PATH):\n",
    "    \"\"\"\n",
    "    Ordena el archivo de poblaciones por porcentaje de poblacion en situacion de calle\n",
    "    de mayor a menor e imprime los primeros 5.\n",
    "    args:\n",
    "        POPULATION_PATH (string): Diccionario con informacion de una jurisdiccion.\n",
    "    \"\"\"\n",
    "    with(\n",
    "        POPULATION_PATH.open(mode = \"r\",encoding=\"utf-8\") as p_r\n",
    "    ):\n",
    "        population_reader = csv.DictReader(p_r)\n",
    "        next(population_reader)\n",
    "\n",
    "        ordered_list = sorted(population_reader, key=lambda x: x['Porcentaje en Situacion de Calle'], reverse=True)\n",
    "\n",
    "        print(\"Se imprimiran las jurisdicciones con mayor cantidad de poblacion en situacion de calle.: \")\n",
    "        for jurisdiction in ordered_list[:5]:\n",
    "            inform_jurisdiction(jurisdiction)"
   ]
  },
  {
   "cell_type": "markdown",
   "metadata": {},
   "source": [
    "1. `ordered_list = sorted(population_reader, key=lambda x: x['Porcentaje en Situacion de Calle'], reverse=True)` ordenada las lineas del archivo por el dato de lamda (columna del porcentaje de la poblacion) y esta la rodena de mayor a menor (revers=true)"
   ]
  },
  {
   "cell_type": "markdown",
   "metadata": {},
   "source": [
    "---"
   ]
  },
  {
   "cell_type": "markdown",
   "metadata": {},
   "source": [
    "$ Consulta - 8 $"
   ]
  },
  {
   "cell_type": "code",
   "execution_count": null,
   "metadata": {},
   "outputs": [],
   "source": [
    "def inform_max_breach(population_breachs):\n",
    "    \"\"\"\n",
    "    Imprime por pantalla la informacion de la jurisdiccion con mayor brecha poblacional\n",
    "    args:\n",
    "        population_breachs (dict): diccionario con jurisdicciones y sus brechas.\n",
    "    \"\"\"\n",
    "    max_breach = max(population_breachs,key = population_breachs.get)\n",
    "    print()\n",
    "    print(\"-\"*40)\n",
    "    print(\"Jurisdiccion con mayor brecha de poblacion segun el sexo:\")\n",
    "    print(f\"    - Juridiccion: {max_breach}\")\n",
    "    print(f\"    - Brecha: {population_breachs[max_breach]}\")\n",
    "    print(\"-\"*40)\n",
    "\n",
    "\n",
    "def querie_8(POPULATION_PATH):\n",
    "    \"\"\"\n",
    "    Genera un diccionario con cada jurisdiccion y su breacha poblacional entre hombres y mujeres.\n",
    "    args:\n",
    "        POPULATION_PATH (dict): diccionario con jurisdicciones y sus brechas.\n",
    "    \"\"\"\n",
    "    with(\n",
    "        POPULATION_PATH.open(mode = \"r\",encoding=\"utf-8\") as population_reader\n",
    "    ):\n",
    "        p_r = csv.DictReader(population_reader)\n",
    "        next(p_r)\n",
    "\n",
    "        population_breachs = {j['Jurisdicción']: abs(int(j['Varones Total de población']) - int(j['Mujeres Total de población'])) for j in p_r}\n",
    "        inform_max_breach(population_breachs)"
   ]
  },
  {
   "cell_type": "markdown",
   "metadata": {},
   "source": [
    "1. `max_breach = max(population_breachs,key = population_breachs.get)` lo que hace esta línea de código es encontrar la clave que tiene el valor máximo en términos de brecha poblacional en el diccionario population_breachs"
   ]
  },
  {
   "cell_type": "markdown",
   "metadata": {},
   "source": [
    "2. `population_breachs = {j['Jurisdicción']: abs(int(j['Varones Total de población']) - int(j['Mujeres Total de población'])) for j in p_r}`  esta línea de código crea un diccionario donde cada clave es el nombre de una jurisdicción y el valor es la brecha poblacional entre hombres y mujeres en esa jurisdicción."
   ]
  },
  {
   "cell_type": "markdown",
   "metadata": {},
   "source": [
    "---"
   ]
  },
  {
   "cell_type": "markdown",
   "metadata": {},
   "source": [
    "$ Consulta - 9 $"
   ]
  },
  {
   "cell_type": "code",
   "execution_count": null,
   "metadata": {},
   "outputs": [],
   "source": [
    "def querie_9 (connectivities):\n",
    "    '''\n",
    "    Imprime los tipos de conectividades que se encuentran en la lista.\n",
    "\n",
    "    Recibe:\n",
    "    - connectivities: Lista que contiene los tipos de conectividad.\n",
    "    '''\n",
    "    print (\"Los tipos de conectividades son:\",\", \".join(connectivities ))"
   ]
  },
  {
   "cell_type": "markdown",
   "metadata": {},
   "source": [
    "1. `print (\"Los tipos de conectividades son:\",\", \".join(connectivities ))` Concatenación de cadenas: \"Los tipos de conectividades son:\" es una cadena, y \", \".join(connectivities) es otra cadena que se obtiene al unir los elementos de la lista connectivities con la cadena \", \" como separador entre ellos"
   ]
  },
  {
   "cell_type": "markdown",
   "metadata": {},
   "source": [
    "---"
   ]
  },
  {
   "cell_type": "markdown",
   "metadata": {},
   "source": [
    "$ Consulta - 10 $"
   ]
  },
  {
   "cell_type": "code",
   "execution_count": null,
   "metadata": {},
   "outputs": [],
   "source": [
    "def querie_10 (connectivity_dataset, types):\n",
    "    '''\n",
    "    Identifica la cantidad de localidades con cada tipo de conectividad del dataset y las imprime.\n",
    "\n",
    "    Recibe:\n",
    "    - types: Lista que contiene los tipos de conectividad.\n",
    "    - connectivity_dataset: Dataset que contiene los datos de conectividad en Argentina.\n",
    "    '''\n",
    "    with connectivity_dataset.open (mode = \"r\", encoding = \"utf-8\", newline='') as read_dataset:\n",
    "        \n",
    "        connectivity = csv.DictReader(read_dataset)\n",
    "    \n",
    "        connectivities = dict.fromkeys(types, 0)\n",
    "        \n",
    "        for line in connectivity:\n",
    "            for type in types:\n",
    "                if line[type] == \"SI\":\n",
    "                    connectivities[type] += 1\n",
    "    \n",
    "    table_data = [[key, value] for key, value in connectivities.items()]\n",
    "    print(tabulate(table_data, headers=['Tipo de conectividad', 'Cantidad'], tablefmt='psql', stralign='center'))"
   ]
  },
  {
   "cell_type": "markdown",
   "metadata": {},
   "source": [
    "1. `connectivities = dict.fromkeys(types, 0)` crea un diccionario donde las claves son los elementos de la lista types y los valores asociados a esas claves son todos inicializados a cero (0)"
   ]
  },
  {
   "cell_type": "markdown",
   "metadata": {},
   "source": [
    "2. `table_data = [[key, value] for key, value in connectivities.items()]`  crea una lista de listas en la que cada sublista tiene dos elementos: la clave y el valor correspondientes a cada par clave-valor del diccionario connectivities."
   ]
  },
  {
   "cell_type": "code",
   "execution_count": null,
   "metadata": {},
   "outputs": [],
   "source": [
    "# Por ejemplo, si connectivities es \n",
    "{'Fibra óptica': 10, 'ADSL': 5, 'Satelital': 3}\n",
    "# entonces table_data será\n",
    "[['Fibra óptica', 10], ['ADSL', 5], ['Satelital', 3]]\n",
    "# Cada sublista representa un tipo de conectividad junto con la cantidad de localidades que tienen ese tipo de conectividad"
   ]
  },
  {
   "cell_type": "markdown",
   "metadata": {},
   "source": [
    "---"
   ]
  },
  {
   "cell_type": "markdown",
   "metadata": {},
   "source": [
    "$ Consulta - 11 $"
   ]
  },
  {
   "cell_type": "code",
   "execution_count": null,
   "metadata": {},
   "outputs": [],
   "source": [
    "def querie_11 (connectivity_dataset):\n",
    "    \"\"\"\n",
    "    Identifica las provincias del dataset de conectividad que tienen fibra óptica en todas sus ciudades y las imprime.\n",
    "\n",
    "    Recibe: \n",
    "    connectivity_dataset: Dataset que contiene los datos de conectividad en Argentina.\n",
    "    \"\"\"\n",
    "    provinces = {}\n",
    "\n",
    "    with connectivity_dataset.open (mode = \"r\", encoding = \"utf-8\", newline='') as read_dataset:\n",
    "        connectivity = csv.DictReader(read_dataset)\n",
    "\n",
    "        for line in connectivity:\n",
    "            province = line['Provincia']\n",
    "            city = line['Localidad']\n",
    "            fiber_optic = line['FIBRAOPTICA']\n",
    "            \n",
    "            if province not in provinces:\n",
    "                provinces[province] = {} \n",
    "            \n",
    "            provinces[province][city] = fiber_optic\n",
    "        \n",
    "        print (\"Las provincias que tienen fibra óptica en todas sus ciudades son:\")\n",
    "        for province, cities in provinces.items():\n",
    "            if all(fibra_optica == 'SI' for fibra_optica in cities.values()):\n",
    "                print(province)"
   ]
  },
  {
   "cell_type": "markdown",
   "metadata": {},
   "source": [
    "1. `if all(fibra_optica == 'SI' for fibra_optica in cities.values()):` si todas las ciudades de una provincia tienen fibra óptica ('SI'), se imprime el nombre de esa provincia"
   ]
  },
  {
   "cell_type": "markdown",
   "metadata": {},
   "source": [
    "2. `provinces[province][city] = fiber_optic` Para cada ciudad en la provincia, se actualiza su estado de fibra óptica en el diccionario provinces"
   ]
  },
  {
   "cell_type": "markdown",
   "metadata": {},
   "source": [
    "---"
   ]
  },
  {
   "cell_type": "markdown",
   "metadata": {},
   "source": [
    "$ Consulta - 12 $"
   ]
  },
  {
   "cell_type": "code",
   "execution_count": null,
   "metadata": {},
   "outputs": [],
   "source": [
    "def check_connectivity (dic,connectivity):\n",
    "    for line in connectivity:\n",
    "        if dic[\"Capital\"].lower() in line[\"Localidad\"].lower() and unidecode(dic[\"Provincia\"].lower()) in line[\"Provincia\"].lower():\n",
    "            return line[\"posee_conectividad\"]\n",
    "    return \"Conectividad desconocida\"\n",
    "\n",
    "def querie_12 (ar_dataset, connectivity_dataset):\n",
    "    \"\"\"\n",
    "    Identifica si las capitales de las provincias poseen conectividad y las imprime.\n",
    "\n",
    "    Recibe: \n",
    "    ar_dataset: Dataset que contiene la composición de cada provincia de Argentina con el listado de ciudades de cada una.\n",
    "    connectivity_dataset: Dataset que contiene los datos de conectividad en Argentina.\n",
    "    \"\"\"\n",
    "    ar = []\n",
    "    with ar_dataset.open (mode = \"r\", encoding = \"utf-8\", newline='') as read_dataset:\n",
    "        ar_dat = csv.DictReader(read_dataset)\n",
    "\n",
    "        for line in ar_dat:\n",
    "            if line[\"capital\"] == \"admin\":\n",
    "                ar.append({\"Provincia\": line[\"admin_name\"].split(\",\")[0], \"Capital\": line[\"city\"]})\n",
    "\n",
    "    with connectivity_dataset.open (mode = \"r\", encoding = \"utf-8\", newline='') as read_dataset:\n",
    "        connectivity = list(csv.DictReader(read_dataset))\n",
    "\n",
    "    for dic in ar:\n",
    "        dic[\"Posee Conectividad\"] = check_connectivity(dic,connectivity)\n",
    "\n",
    "    headers = ar[0].keys()\n",
    "    table_data = [[row[header] for header in headers] for row in ar]\n",
    "    print(tabulate(table_data, headers=headers, tablefmt='psql', stralign='center'))"
   ]
  },
  {
   "cell_type": "markdown",
   "metadata": {},
   "source": [
    "1. `onnectivity = list(csv.DictReader(read_dataset))` En lugar de crear una lista completa de conectividad, se podria iterar sobre el lector de CSV directamente en el segundo bucle for."
   ]
  },
  {
   "cell_type": "markdown",
   "metadata": {},
   "source": [
    "2. `table_data = [[row[header] for header in headers] for row in ar]` Entonces, al final de esta expresión de comprensión de listas, table_data será una lista de listas, donde cada sublista representa una fila de datos de la tabla. Cada elemento de estas sublistas será un valor de una columna correspondiente en la tabla.\n",
    "\n",
    "    Por ejemplo, si headers contiene [\"Provincia\", \"Capital\", \"Posee Conectividad\"] y ar contiene una lista de diccionarios como ar = [{\"Provincia\": \"Buenos Aires\", \"Capital\": \"La Plata\", \"Posee Conectividad\": \"SI\"}, ...], entonces table_data se verá así:"
   ]
  },
  {
   "cell_type": "markdown",
   "metadata": {},
   "source": [
    "    [\"Buenos Aires\", \"La Plata\", \"SI\"],\n",
    "    [\"Otra Provincia\", \"Otra Capital\", \"No\"]"
   ]
  }
 ],
 "metadata": {
  "language_info": {
   "name": "python"
  }
 },
 "nbformat": 4,
 "nbformat_minor": 2
}
