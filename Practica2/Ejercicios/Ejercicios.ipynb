{
 "cells": [
  {
   "cell_type": "markdown",
   "metadata": {},
   "source": [
    "$$\n",
    "P-R-A-C-T-I-C-A-2\n",
    "$$"
   ]
  },
  {
   "cell_type": "markdown",
   "metadata": {},
   "source": [
    "# Ejercicio 1\n",
    "\n",
    "> Tomando el texto del  README.md  de numpy, copiar y pegar el texto en una variable,\n",
    "luego imprima todas las líneas cuya segunda palabra comience con una vocal (A, E, I,\n",
    "O, U, a, e, i, o, u)"
   ]
  },
  {
   "cell_type": "code",
   "execution_count": 26,
   "metadata": {},
   "outputs": [],
   "source": [
    "#cargo el texto en la variable\n",
    "info = \"\"\" \n",
    "NumPy is the fundamental package for scientific computing with Python.\n",
    "Website: https://www.numpy.org\n",
    "Documentation: https://numpy.org/doc\n",
    "Mailing list: https://mail.python.org/mailman/listinfo/numpy-discussion\n",
    "Source code: https://github.com/numpy/numpy\n",
    "Contributing: https://www.numpy.org/devdocs/dev/index.html\n",
    "Bug reports: https://github.com/numpy/numpy/issues\n",
    "Report a security vulnerability: https://tidelift.com/docs/security\n",
    "It provides:\n",
    "a powerful N-dimensional array object\n",
    "sophisticated (broadcasting) functions\n",
    "tools for integrating C/C++ and Fortran code\n",
    "useful linear algebra, Fourier transform, and random number capabilities\n",
    "Testing:\n",
    "NumPy requires pytest and hypothesis. Tests can then be run after installation with:\n",
    "python -c \"import numpy, sys; sys.exit(numpy.test() is False)\"\n",
    "Code of Conduct\n",
    "NumPy is a community-driven open source project developed by a diverse group of contributors. The NumPy leadership has made a strong commitment to creating an open, inclusive, and positive community. Please read the NumPy Code of Conduct for guidance on how to interact with others in a way that makes our community thrive.\n",
    "Call for Contributions\n",
    "The NumPy project welcomes your expertise and enthusiasm!\n",
    "Small improvements or fixes are always appreciated. If you are considering larger contributions to the source code, please contact us through the mailing list first.\n",
    "Writing code isn’t the only way to contribute to NumPy. You can also:\n",
    "review pull requests\n",
    "help us stay on top of new and old issues\n",
    "develop tutorials, presentations, and other educational materials\n",
    "maintain and improve our website\n",
    "develop graphic design for our brand assets and promotional materials\n",
    "translate website content\n",
    "help with outreach and onboard new contributors\n",
    "write grant proposals and help with other fundraising efforts\n",
    "For more information about the ways you can contribute to NumPy, visit our website. If you’re unsure where to start or how your skills fit in, reach out! You can ask on the mailing list or here, on GitHub, by opening a new issue or leaving a comment on a relevant issue that is already open.\n",
    "Our preferred channels of communication are all public, but if you’d like to speak to us in private first, contact our community coordinators at numpy-team@googlegroups.com or on Slack (write numpy-team@googlegroups.com for an invitation).\n",
    "We also have a biweekly community call, details of which are announced on the mailing list. You are very welcome to join.\n",
    "If you are new to contributing to open source, this guide helps explain why, what, and how to successfully get involved. \n",
    "\"\"\"\n",
    "\n",
    "#Divido el texto por lineas\n",
    "lineas = info.strip().split('\\n')\n",
    "\n",
    "#Vocales a comparar\n",
    "vocales = ('A', 'E', 'I', 'O', 'U', 'a', 'e', 'i', 'o', 'u')"
   ]
  },
  {
   "cell_type": "code",
   "execution_count": 27,
   "metadata": {},
   "outputs": [
    {
     "name": "stdout",
     "output_type": "stream",
     "text": [
      "NumPy is the fundamental package for scientific computing with Python.\n",
      "Report a security vulnerability: https://tidelift.com/docs/security\n",
      "Code of Conduct\n",
      "NumPy is a community-driven open source project developed by a diverse group of contributors. The NumPy leadership has made a strong commitment to creating an open, inclusive, and positive community. Please read the NumPy Code of Conduct for guidance on how to interact with others in a way that makes our community thrive.\n",
      "Small improvements or fixes are always appreciated. If you are considering larger contributions to the source code, please contact us through the mailing list first.\n",
      "help us stay on top of new and old issues\n",
      "maintain and improve our website\n",
      "We also have a biweekly community call, details of which are announced on the mailing list. You are very welcome to join.\n"
     ]
    }
   ],
   "source": [
    "for unaLinea in lineas:                                   #agarro una linea de texto\n",
    "    palabras = unaLinea.split()                           #divido esa linea en palabras\n",
    "    if len(palabras) > 1 and palabras[1][0] in vocales:   #si tiene mas de una palabra y la palabra 1 (que seria la segunda) \n",
    "        print(unaLinea)                                   #en la pos 0 (la primera letra) es una vocal, imprimo la linea"
   ]
  },
  {
   "cell_type": "markdown",
   "metadata": {},
   "source": [
    "# Ejercicio 2\n",
    "\n",
    "> Indique la palabra con más de 4 caracteres que aparece mayor cantidad de veces en\n",
    "el texto del  README.md  de numpy. Copie y pegue el texto en una variable.\n",
    "\n",
    "Investigue el módulo Counter para simplificar la resolución"
   ]
  },
  {
   "cell_type": "markdown",
   "metadata": {},
   "source": [
    "Lo que hace el counter en este caso es crear un diccionario y la key sera cada palabra y el dato la cantidad de veces que se encontro en la lista de palabras"
   ]
  },
  {
   "cell_type": "code",
   "execution_count": 28,
   "metadata": {},
   "outputs": [
    {
     "name": "stdout",
     "output_type": "stream",
     "text": [
      "la palabra \"NumPy\" gano con \"6\" apericiones\n"
     ]
    }
   ],
   "source": [
    "from collections import Counter\n",
    "# Divido el texto en palabras\n",
    "palabras = info.split()\n",
    "\n",
    "mas_cuatro = []                           \n",
    "for palabra in palabras:\n",
    "    if len(palabra) > 4:\n",
    "        mas_cuatro.append(palabra)\n",
    "contadores = Counter(mas_cuatro)   \n",
    "print(f'la palabra \"{contadores.most_common(1)[0][0]}\" gano con \"{contadores.most_common(1)[0][1]}\" apericiones')  \n"
   ]
  },
  {
   "cell_type": "markdown",
   "metadata": {},
   "source": [
    "# Ejercicio 3\n",
    "\n",
    "> Dado el siguiente texto guardado en la varible jupyter_info, solicite por teclado una\n",
    "letra e imprima las palabras que contengan dicha letra. En caso que no se haya\n",
    "ingresado un letra, indique el error. Ver: módulo string"
   ]
  },
  {
   "cell_type": "code",
   "execution_count": 32,
   "metadata": {},
   "outputs": [],
   "source": [
    "jupyter_info = \"\"\" JupyterLab is a web-based interactive development \n",
    "environment for Jupyter notebooks, code, and data. JupyterLab is \n",
    "flexible: configure and arrange the user interface to support a wide \n",
    "range of workflows in data science, scientific computing, and machine \n",
    "learning. JupyterLab is extensible and modular: write plugins that add\n",
    "new components and integrate with existing ones. \"\"\""
   ]
  },
  {
   "cell_type": "code",
   "execution_count": 41,
   "metadata": {},
   "outputs": [
    {
     "name": "stdout",
     "output_type": "stream",
     "text": [
      "ERROR !! no ingreso una letra :/\n"
     ]
    }
   ],
   "source": [
    "jupyter_info = jupyter_info.replace(':','').replace('.','').replace(',','') #limpio el texto un poquito :)\n",
    "palabras = jupyter_info.split() #lista de palabras\n",
    "letra = input('Ingresar una letra: ')\n",
    "if letra.isalpha():   #si lo ingresado es una letra realmente\n",
    "    for palabra in palabras:\n",
    "        if letra in palabra:\n",
    "            print(f'|{palabra}|')\n",
    "else:\n",
    "    print('ERROR !! no ingreso una letra :(')"
   ]
  },
  {
   "cell_type": "markdown",
   "metadata": {},
   "source": [
    "# Ejercicio 4\n",
    "\n",
    "> Dado el siguiente código que informa si la letra a se encuentra en una palabra\n",
    "ingresada por teclado:\n"
   ]
  },
  {
   "cell_type": "code",
   "execution_count": 45,
   "metadata": {},
   "outputs": [
    {
     "name": "stdout",
     "output_type": "stream",
     "text": [
      "No hay letras a. \n"
     ]
    }
   ],
   "source": [
    "word = input(\"Ingresá una palabra: \")\n",
    "if \"a\" in word:\n",
    "    print(\"Hay al menos una letra a.\")\n",
    "else:\n",
    "    print(\"No hay letras a. \")"
   ]
  },
  {
   "cell_type": "markdown",
   "metadata": {},
   "source": [
    "> Si ahora queremos saber si contiene la letra a y también la letra n, ¿cómo lo\n",
    "modificamos?"
   ]
  },
  {
   "cell_type": "code",
   "execution_count": 52,
   "metadata": {},
   "outputs": [
    {
     "name": "stdout",
     "output_type": "stream",
     "text": [
      "Hay al menos una 'n' pero no hay 'a'\n"
     ]
    }
   ],
   "source": [
    "word = input(\"Ingresá una palabra: \")\n",
    "if \"a\" in word.lower() and \"n\" in word.lower():\n",
    "    print(\"Hay al menos una letra 'a' y una letra 'n'.\")\n",
    "elif \"a\" in word.lower():\n",
    "    print(\"Hay al menos una 'a' pero no hay 'n'\")\n",
    "elif \"n\" in word.lower():\n",
    "    print(\"Hay al menos una 'n' pero no hay 'a'\")\n",
    "else:\n",
    "    print(\"No hay letras 'a' ni letras 'n' \")"
   ]
  },
  {
   "cell_type": "markdown",
   "metadata": {},
   "source": [
    "# Ejercicio 5\n",
    "\n",
    "> Para la aceptación de un artículo en un congreso se definen las siguientes\n",
    "especificaciones que deben cumplir y recomendaciones de escritura:\n",
    "\n",
    "        •título:\n",
    "        \n",
    "                10 palabras como máximo\n",
    "\n",
    "        •cada oración del resumen:\n",
    "\n",
    "                hasta 12 palabras: fácil de leer\n",
    "\n",
    "                entre 13-17 palabras: aceptable para leer\n",
    "\n",
    "                entre 18-25 palabras: difícil de leer\n",
    "\n",
    "                mas de 25 palabras: muy difícil\n",
    "\n",
    "> Es importante destacar que los números no se consideran palabras al momento del\n",
    "análisis por su facilidad de lectura.\n",
    "\n",
    ">Dado un artículo en formato string, defina si cumple las especificaciones del título y\n",
    "cuántas oraciones tiene de cada categoría. El formato estándar en que recibe el string\n",
    "tiene la siguiente forma:"
   ]
  },
  {
   "cell_type": "code",
   "execution_count": 6,
   "metadata": {},
   "outputs": [],
   "source": [
    "article = \"\"\" título: Experiences in Developing a Distributed Agent-based Modeling Toolkit with Python Version 3\n",
    "resumen: Distributed agent-based modeling (ABM) on high-performance\n",
    "computing resources provides the promise of capturing unprecedented\n",
    "details of large-scale complex systems. However, the specialized\n",
    "knowledge required for developing such ABMs creates barriers to wider\n",
    "adoption and utilization. Here we present our experiences in\n",
    "developing an initial implementation of Repast4Py, a Python-based\n",
    "distributed ABM toolkit. We build on our experiences in developing ABM\n",
    "toolkits, including Repast for High Performance Computing (Repast\n",
    "HPC), to identify the key elements of a useful distributed ABM\n",
    "toolkit. We leverage the Numba, NumPy, and PyTorch packages and the\n",
    "En este ejemplo se debe informar:\n",
    "Python C-API to create a scalable modeling system that can exploit the\n",
    "largest HPC resources and emerging computing architectures. \"\"\""
   ]
  },
  {
   "cell_type": "markdown",
   "metadata": {},
   "source": [
    ">En este ejemplo se debe informar:\n",
    "\n",
    "        título: not ok\n",
    "        \n",
    "        Cantidad de oraciones fáciles de leer: 1, aceptables para leer: 2, dificil de leer: 1,\n",
    "        muy difícil de leer: 2"
   ]
  },
  {
   "cell_type": "code",
   "execution_count": 7,
   "metadata": {},
   "outputs": [
    {
     "name": "stdout",
     "output_type": "stream",
     "text": [
      "Experiences in Developing a Distributed Agent-based Modeling Toolkit with Python Version 3\n"
     ]
    }
   ],
   "source": [
    "titulo = article.split('título: ')[1].split('\\n')[0]\n",
    "print(titulo)\n",
    "\n",
    "#saco los numeros del texto \n",
    "import re\n",
    "sinNumeros = re.sub(r'\\d+', '', article)\n",
    "\n",
    "sinNumeros = sinNumeros.replace('título:','')\n",
    "#Divido el texto por lineas\n",
    "lineas = sinNumeros.strip().split('\\n')\n",
    "\n",
    "lineas[0]=lineas[0].replace('título:','') #saco esa palabra para no contarla\n",
    "\n"
   ]
  }
 ],
 "metadata": {
  "kernelspec": {
   "display_name": "Python 3",
   "language": "python",
   "name": "python3"
  },
  "language_info": {
   "codemirror_mode": {
    "name": "ipython",
    "version": 3
   },
   "file_extension": ".py",
   "mimetype": "text/x-python",
   "name": "python",
   "nbconvert_exporter": "python",
   "pygments_lexer": "ipython3",
   "version": "3.11.2"
  }
 },
 "nbformat": 4,
 "nbformat_minor": 2
}
