{
 "cells": [
  {
   "cell_type": "markdown",
   "metadata": {},
   "source": [
    "$$\n",
    "E-n-t-r-e-g-a-2\n",
    "$$"
   ]
  },
  {
   "cell_type": "markdown",
   "metadata": {},
   "source": [
    "## Ejercicio 10\n",
    "\n",
    "> Un club de hockey posee las estadísticas de todxs sus jugadorxs de la última\n",
    "temporada jugada del torneo de hockey mixto. Poseen una lista con los nombres, otra\n",
    "con los goles a favor, otra con los goles evitados y la última con las asistencias\n",
    "realizadas. El club está por otorgar los premios de cierre de temporada y necesita:\n",
    "- Generar una estructura todas las estadísticas asociadas a cada jugador o jugadora.\n",
    "- Conocer el nombre y la cantidad de goles del goleador o goleadora\n",
    "- Conocer el nombre del jugador o jugadora más influyente, esto se consigue\n",
    "sumando goles a favor, goles evitados y cantidad de asistencias. La particularidad\n",
    "es que los goles a favor, evitados y las asistencias NO valen lo mismo (es un\n",
    "promedio ponderado)\n",
    "   - goles a favor: 1,5\n",
    "   - goles evitados: 1,25\n",
    "   - asistencias: 1\n",
    "- Conocer el promedio de goles por partido del equipo en general. \n",
    "Dato: Se jugaron 25 partidos en la temporada.\n",
    "- Conocer el promedio de goles por partido del goleador o goleadora. \n",
    "Dato: Se jugaron 25 partidos en la temporada.\n"
   ]
  },
  {
   "cell_type": "markdown",
   "metadata": {},
   "source": [
    "**Nota:**\n",
    "- Las 4 estructuras están ordenadas de forma que los elementos en la misma\n",
    "posición corresponden a un mismo jugador o jugadora.\n",
    "- Realizar funciones con cada ítem\n",
    "\n",
    "**Codigo:**"
   ]
  },
  {
   "cell_type": "code",
   "execution_count": 1,
   "metadata": {},
   "outputs": [],
   "source": [
    "names = \"\"\" Agustin, Yanina, Andrés, Ariadna, Bautista, CAROLINA, \n",
    "CESAR, David, Diego, Dolores, DYLAN, ELIANA, Emanuel, Fabián, Noelia, \n",
    "Francsica', FEDERICO, Fernanda, GONZALO, Nancy \"\"\"\n",
    "goals = [0, 10, 4, 0, 5, 14, 0, 0, 7, 2, 1, 1, 1, 5, 6, 1, 1, 2, 0, 11]\n",
    "goals_avoided = [0, 2, 0, 0, 5, 2, 0, 0, 1, 2, 0, 5, 5, 0, 1, 0, 2, 3, 0, 0]\n",
    "assists = [0, 5, 1, 0, 5, 2, 0, 0, 1, 2, 1, 5, 5, 0, 1, 0, 2, 3, 1, 0]"
   ]
  },
  {
   "cell_type": "markdown",
   "metadata": {},
   "source": [
    "**Mi resolucion:**"
   ]
  },
  {
   "cell_type": "markdown",
   "metadata": {},
   "source": [
    "> Punto 1 :p"
   ]
  },
  {
   "cell_type": "code",
   "execution_count": 2,
   "metadata": {},
   "outputs": [
    {
     "name": "stdout",
     "output_type": "stream",
     "text": [
      "{'Agustin': {'Goles a favor': 0, 'Goles evitados': 0, 'Asistencias': 0}, 'Yanina': {'Goles a favor': 10, 'Goles evitados': 2, 'Asistencias': 5}, 'Andrés': {'Goles a favor': 4, 'Goles evitados': 0, 'Asistencias': 1}, 'Ariadna': {'Goles a favor': 0, 'Goles evitados': 0, 'Asistencias': 0}, 'Bautista': {'Goles a favor': 5, 'Goles evitados': 5, 'Asistencias': 5}, 'CAROLINA': {'Goles a favor': 14, 'Goles evitados': 2, 'Asistencias': 2}, 'CESAR': {'Goles a favor': 0, 'Goles evitados': 0, 'Asistencias': 0}, 'David': {'Goles a favor': 0, 'Goles evitados': 0, 'Asistencias': 0}, 'Diego': {'Goles a favor': 7, 'Goles evitados': 1, 'Asistencias': 1}, 'Dolores': {'Goles a favor': 2, 'Goles evitados': 2, 'Asistencias': 2}, 'DYLAN': {'Goles a favor': 1, 'Goles evitados': 0, 'Asistencias': 1}, 'ELIANA': {'Goles a favor': 1, 'Goles evitados': 5, 'Asistencias': 5}, 'Emanuel': {'Goles a favor': 1, 'Goles evitados': 5, 'Asistencias': 5}, 'Fabián': {'Goles a favor': 5, 'Goles evitados': 0, 'Asistencias': 0}, 'Noelia': {'Goles a favor': 6, 'Goles evitados': 1, 'Asistencias': 1}, \"Francsica'\": {'Goles a favor': 1, 'Goles evitados': 0, 'Asistencias': 0}, 'FEDERICO': {'Goles a favor': 1, 'Goles evitados': 2, 'Asistencias': 2}, 'Fernanda': {'Goles a favor': 2, 'Goles evitados': 3, 'Asistencias': 3}, 'GONZALO': {'Goles a favor': 0, 'Goles evitados': 0, 'Asistencias': 1}, 'Nancy': {'Goles a favor': 11, 'Goles evitados': 0, 'Asistencias': 0}}\n"
     ]
    }
   ],
   "source": [
    "from misFunciones import Funciones as uso\n",
    "\n",
    "# cargo los datos en el diccionario :p\n",
    "datosJugadores = uso.crearEstructura(names,goals,goals_avoided,assists)\n",
    "\n",
    "# chequeo que se cargo correctamente \n",
    "print(datosJugadores)"
   ]
  },
  {
   "cell_type": "markdown",
   "metadata": {},
   "source": [
    "> Punto 2 :)"
   ]
  },
  {
   "cell_type": "code",
   "execution_count": 3,
   "metadata": {},
   "outputs": [
    {
     "name": "stdout",
     "output_type": "stream",
     "text": [
      "La persona mas goles fue CAROLINA con 14 goles !!\n"
     ]
    }
   ],
   "source": [
    "\n",
    "goleador,maxGoles = uso.buscarGoleador(datosJugadores)\n",
    "\n",
    "print(f'La persona mas goles fue {goleador} con {maxGoles} goles !!')"
   ]
  },
  {
   "cell_type": "markdown",
   "metadata": {},
   "source": [
    "> Punto 3 :o"
   ]
  },
  {
   "cell_type": "code",
   "execution_count": 4,
   "metadata": {},
   "outputs": [
    {
     "name": "stdout",
     "output_type": "stream",
     "text": [
      "La persona mas influyente fue CAROLINA con 25.5 pts\n"
     ]
    }
   ],
   "source": [
    "\n",
    "influyente,puntos = uso.buscarInfluyente(datosJugadores)\n",
    "\n",
    "print(f'La persona mas influyente fue {influyente} con {puntos} pts')"
   ]
  },
  {
   "cell_type": "markdown",
   "metadata": {},
   "source": [
    "> Punto 4"
   ]
  },
  {
   "cell_type": "code",
   "execution_count": 5,
   "metadata": {},
   "outputs": [
    {
     "name": "stdout",
     "output_type": "stream",
     "text": [
      "El promedio de goles del equipo fue 2.84\n"
     ]
    }
   ],
   "source": [
    "\n",
    "partidos=25\n",
    "\n",
    "promedio = uso.calcularPromedioEquipo(datosJugadores,partidos)\n",
    "\n",
    "print(f'El promedio de goles del equipo fue {promedio}')"
   ]
  },
  {
   "cell_type": "markdown",
   "metadata": {},
   "source": [
    "> Punto 5"
   ]
  },
  {
   "cell_type": "code",
   "execution_count": 6,
   "metadata": {},
   "outputs": [
    {
     "name": "stdout",
     "output_type": "stream",
     "text": [
      "El promedio del goleador (CAROLINA) fue de 0.56 goles por partido\n"
     ]
    }
   ],
   "source": [
    "\n",
    "print(f'El promedio del goleador ({goleador}) fue de {uso.calcularPromedioGoleador(maxGoles,partidos)} goles por partido')"
   ]
  }
 ],
 "metadata": {
  "kernelspec": {
   "display_name": "Python 3",
   "language": "python",
   "name": "python3"
  },
  "language_info": {
   "codemirror_mode": {
    "name": "ipython",
    "version": 3
   },
   "file_extension": ".py",
   "mimetype": "text/x-python",
   "name": "python",
   "nbconvert_exporter": "python",
   "pygments_lexer": "ipython3",
   "version": "3.11.2"
  }
 },
 "nbformat": 4,
 "nbformat_minor": 2
}
