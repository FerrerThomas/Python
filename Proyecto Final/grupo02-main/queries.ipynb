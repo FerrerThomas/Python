{
 "cells": [
  {
   "cell_type": "code",
   "execution_count": null,
   "metadata": {},
   "outputs": [],
   "source": [
    "from pathlib import Path\n",
    "from modules import queries_functions\n",
    "\n",
    "AIRPORTS_MODIFIED_PATH = Path('modified_datasets','ar-airports_mod.csv')\n",
    "LAKES_MODIFIED_PATH = Path('modified_datasets','lagos_arg_mod.csv')\n",
    "CONNECTIVITY_MODIFIED_PATH = Path(\"modified_datasets\",\"conectividad_internet_modificado.csv\")\n",
    "POPULATION_MODIFIED_PATH = Path('modified_datasets','censo_poblacion_2022.csv')\n",
    "CITYS_PATH = Path('datasets','ar.csv')\n",
    "\n",
    "TYPES_OF_CONECTIVITIES=[\"ADSL\", \"CABLEMODEM\", \"DIALUP\", \"FIBRAOPTICA\", \"SATELITAL\", \"WIRELESS\", \"TELEFONIAFIJA\", \"3G\", \"4G\"]\n",
    "'''Contiene variables de tipos de conectividad'''"
   ]
  },
  {
   "cell_type": "markdown",
   "metadata": {},
   "source": [
    "## TRABAJO INTEGRADOR 2024"
   ]
  },
  {
   "cell_type": "markdown",
   "metadata": {},
   "source": [
    "## Consulta"
   ]
  },
  {
   "cell_type": "markdown",
   "metadata": {},
   "source": [
    "### Consulta 1: Los diferentes tipos de aeropuertos según la columna 'type'"
   ]
  },
  {
   "cell_type": "code",
   "execution_count": null,
   "metadata": {},
   "outputs": [],
   "source": [
    "queries_functions.querie_1(AIRPORTS_MODIFIED_PATH)"
   ]
  },
  {
   "cell_type": "markdown",
   "metadata": {},
   "source": [
    "### Consulta 2 : Los aeropuertos de una elevación, (bajo, medio, alto) cuya especificación se permita modificar fácilmente, evaluando la columna creada 'elevation_name'"
   ]
  },
  {
   "cell_type": "code",
   "execution_count": null,
   "metadata": {},
   "outputs": [],
   "source": [
    "queries_functions.querie_2(AIRPORTS_MODIFIED_PATH)"
   ]
  },
  {
   "cell_type": "markdown",
   "metadata": {},
   "source": [
    "### Consulta 3 : Los aeropuertos que tienen una mayor o menor elevación con respecto al valor numérico dado."
   ]
  },
  {
   "cell_type": "code",
   "execution_count": null,
   "metadata": {},
   "outputs": [],
   "source": [
    "queries_functions.querie_3(AIRPORTS_MODIFIED_PATH)"
   ]
  },
  {
   "cell_type": "markdown",
   "metadata": {},
   "source": [
    "### Consulta 4: Los aeropuertos, lagos y tipo de conectividad en provincias con población mayor o menor a un valor que se pueda especificar fácilmente."
   ]
  },
  {
   "cell_type": "code",
   "execution_count": null,
   "metadata": {},
   "outputs": [],
   "source": [
    "queries_functions.querie_4(AIRPORTS_MODIFIED_PATH,LAKES_MODIFIED_PATH,CONNECTIVITY_MODIFIED_PATH,POPULATION_MODIFIED_PATH,TYPES_OF_CONECTIVITIES)"
   ]
  },
  {
   "cell_type": "markdown",
   "metadata": {},
   "source": [
    "### Consulta 5 : Mostrar los aeropuertos en las capitales de cada provincia."
   ]
  },
  {
   "cell_type": "code",
   "execution_count": null,
   "metadata": {},
   "outputs": [],
   "source": [
    "queries_functions.querie_5(AIRPORTS_MODIFIED_PATH,CITYS_PATH)"
   ]
  },
  {
   "cell_type": "markdown",
   "metadata": {},
   "source": [
    "### Consulta 6: Mostrar los Lagos de una superficie según la columna 'Sup Tamaño' donde el criterio (chico, medio, grande) se puede indicar fácilmente."
   ]
  },
  {
   "cell_type": "code",
   "execution_count": null,
   "metadata": {},
   "outputs": [],
   "source": [
    "queries_functions.querie_6(LAKES_MODIFIED_PATH)"
   ]
  },
  {
   "cell_type": "markdown",
   "metadata": {},
   "source": [
    "### Consulta 7 : Listar las 5 jurisdicciones con mayor porcentaje de poblacion en situacion de calle. Mostrar el nombre de la jurisdiccion y el porcentaje"
   ]
  },
  {
   "cell_type": "code",
   "execution_count": null,
   "metadata": {},
   "outputs": [],
   "source": [
    "queries_functions.querie_7(POPULATION_MODIFIED_PATH)"
   ]
  },
  {
   "cell_type": "markdown",
   "metadata": {},
   "source": [
    "### Consulta 8: Obtener la jurisdiccion donde la brecha entre poblaciones diferenciadas segun sexo registrado al nacer es mayor. Informar nombre de la Jurisdiccion y cantidad de la brecha poblacional:"
   ]
  },
  {
   "cell_type": "code",
   "execution_count": null,
   "metadata": {},
   "outputs": [],
   "source": [
    "queries_functions.querie_8(POPULATION_MODIFIED_PATH)"
   ]
  },
  {
   "cell_type": "markdown",
   "metadata": {},
   "source": [
    "### Consulta 9: Mostrar los diferentes tipos de conectividades."
   ]
  },
  {
   "cell_type": "code",
   "execution_count": null,
   "metadata": {},
   "outputs": [],
   "source": [
    "queries_functions.querie_9(TYPES_OF_CONECTIVITIES)"
   ]
  },
  {
   "cell_type": "markdown",
   "metadata": {},
   "source": [
    "### Consulta 10: Mostrar las cantidades de localidades con cada tipo de conectividad."
   ]
  },
  {
   "cell_type": "code",
   "execution_count": null,
   "metadata": {},
   "outputs": [],
   "source": [
    "queries_functions.querie_10(CONNECTIVITY_MODIFIED_PATH,TYPES_OF_CONECTIVITIES)"
   ]
  },
  {
   "cell_type": "markdown",
   "metadata": {},
   "source": [
    "### Consulta 11: Mostrar las provincias para las cuales todas sus ciudades poseen FIBRA ÓPTICA.\n"
   ]
  },
  {
   "cell_type": "code",
   "execution_count": null,
   "metadata": {},
   "outputs": [],
   "source": [
    "queries_functions.querie_11(CONNECTIVITY_MODIFIED_PATH)"
   ]
  },
  {
   "cell_type": "markdown",
   "metadata": {},
   "source": [
    "### Consulta 12: Mostrar para cada provincia su capital y, si se conoce la información para dicha capital, informar si posee conectividad (campo 'posee_conectividad' creado previamente). En caso de no conocer la información mostrar el texto “conectividad desconocida”."
   ]
  },
  {
   "cell_type": "code",
   "execution_count": null,
   "metadata": {},
   "outputs": [],
   "source": [
    "queries_functions.querie_12(CITYS_PATH,CONNECTIVITY_MODIFIED_PATH)"
   ]
  }
 ],
 "metadata": {
  "kernelspec": {
   "display_name": "venv",
   "language": "python",
   "name": "python3"
  },
  "language_info": {
   "codemirror_mode": {
    "name": "ipython",
    "version": 3
   },
   "file_extension": ".py",
   "mimetype": "text/x-python",
   "name": "python",
   "nbconvert_exporter": "python",
   "pygments_lexer": "ipython3",
   "version": "3.11.7"
  }
 },
 "nbformat": 4,
 "nbformat_minor": 2
}
