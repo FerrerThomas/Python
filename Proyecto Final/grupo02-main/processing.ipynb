{
 "cells": [
  {
   "cell_type": "code",
   "execution_count": 1,
   "metadata": {},
   "outputs": [],
   "source": [
    "from pathlib import Path\n",
    "from modules import processing_functions\n",
    "\n",
    "AIRPORTS_PATH = Path('datasets','ar-airports.csv')\n",
    "LAKES_PATH = Path('datasets','lagos_arg.csv')\n",
    "CONNECTIVITY_PATH = Path('datasets','Conectividad_Internet.csv')\n",
    "POPULATION_PATH = Path('datasets','c2022_tp_c_resumen_adaptado.csv')\n",
    "CITYS_PATH = Path('datasets','ar.csv')\n",
    "\n",
    "AIRPORTS_MODIFIED_PATH = Path('modified_datasets','ar-airports_mod.csv')\n",
    "LAKES_MODIFIED_PATH = Path('modified_datasets','lagos_arg_mod.csv')\n",
    "CONNECTIVITY_MODIFIED_PATH = Path(\"modified_datasets\",\"conectividad_internet_modificado.csv\")\n",
    "POPULATION_MODIFIED_PATH = Path('modified_datasets','censo_poblacion_2022.csv')"
   ]
  },
  {
   "cell_type": "markdown",
   "metadata": {},
   "source": [
    "# TRABAJO INTEGRADOR 2024"
   ]
  },
  {
   "cell_type": "markdown",
   "metadata": {},
   "source": [
    "## Procesamiento"
   ]
  },
  {
   "cell_type": "markdown",
   "metadata": {},
   "source": [
    "### $Inciso-1$ ###\n",
    "> Consigna:\n",
    "\n",
    "- En el dataset de Aeropuertos (A), se debe generar una columna llamada\n",
    "'elevation_name' que contenga datos cualitativos indicando la elevación de cada\n",
    "aeropuerto. Esta columna se completará con las palabras: \"bajo\", \"medio\" o \"alto\",\n",
    "según la elevación de cada aeropuerto. Para definir estos grupos, se utilizarán los\n",
    "siguientes valores:\n",
    "\n",
    "\n",
    "    1. bajo: aeropuertos con elevación menor o igual a 131 ft.\n",
    "    2. medio: aeropuertos con elevación mayor que 131 ft y menor o igual a 903 ft.\n",
    "    3. altos: aeropuertos con elevación mayor a 903 ft.\n",
    "\n",
    "\n",
    "- Además, se realizará otra modificación en este dataset, consistente en agregar una\n",
    "columna llamada 'prov_name', donde se incluirá el nombre de la provincia\n",
    "correspondiente a cada aeropuerto. Esta información se obtendrá consultando los\n",
    "nombres de las ciudades en el dataset (E).\n",
    "\n",
    "> Resolucion:\n",
    "\n",
    "- ***processing_1:*** Recibe tres rutas de archivos como parametros, la primera contiene el los datos del CSV origianl de aeropuertos, la segunda los datos de CSV original de ciudades y la ultima para el archivo CSV nuevo donde se clonara el de aeropuertos pero con dos nuevas columnas.\n",
    "Se crean iteradores para cada archivo CSV, dos de lectura y uno de escritura, se crean los dos nuevas columnas (load_headers), se calcula y carga en la primera columna el grupo de altura (calculate_height), luego se busca y carga la provincia de cada aeropuerto (search_province) y por ultimo se escribe el aeropuerto modificado (en la tercera ruta recibida) con los dos nuevos datos.\n",
    "\n",
    "- ***load_headers:*** recibe los indices del archivo de aeropuertos y le agregas dos nuevos datos (elevation_name y prov_name)\n",
    "\n",
    "- ***calculate_height:*** Recibe la altura del aeropuerto y compara en que grupo se encuentra (bajo,medio,altos)\n",
    "\n",
    "- ***search_province:*** Recibe la municipalidad del aeropuerto y la lista de ciudades, e itera sobre esta lista comparando la municipalidad recibida con el nombre de la ciudad, si estas dos coinciden retorna la provincia de la ciudad, por otro lado si no encuentra coincidencia retorna 'No encontrada'  "
   ]
  },
  {
   "cell_type": "code",
   "execution_count": 2,
   "metadata": {},
   "outputs": [],
   "source": [
    "processing_functions.processing_1(AIRPORTS_PATH,CITYS_PATH,AIRPORTS_MODIFIED_PATH)"
   ]
  },
  {
   "cell_type": "markdown",
   "metadata": {},
   "source": [
    "### $Inciso-2$ ### \n",
    "En el dataset de Conectividad (B), se realizará un reemplazo en las celdas que contengan el carácter \"-\" con la palabra \"NO\".\n",
    "\n",
    "Para el mismo dataset se debe generar una nueva columna denominada 'posee_conectividad', la misma puede tomar uno de dos valores posibles: SÍ o NO. El valor será NO si todos los campos ADSL, CABLEMODEM, DIALUP, FIBRAOPTICA, SATELITAL, WIRELESS, TELEFONIAFIJA, 3G y 4G poseen el valor \"--\". Caso contrario el valor será SI.\n",
    "\n",
    "***\n",
    "Para resolver este punto utilizamos el siguiente módulo:\n",
    "\n",
    "**read_and_write_2** \n",
    "\n",
    "Toma un archivo CSV como entrada y produce un nuevo archivo CSV con una columna adicional llamada \"<u>posee_conectividad</u>\". Utiliza <u>csv.DictReader</u> para leer cada fila del archivo de entrada como un diccionario, lo que facilita el acceso a los datos por nombre de columna. Además, emplea el módulo \"<u>conectivity</u>\" para determinar si cada fila tiene conectividad y el módulo \"<u>change</u>\" para reemplazar por \"NO\" los valores iguales a \"--\". Finalmente, utiliza <u>csv.DictWriter</u> para escribir las filas procesadas en el archivo de salida, incluyendo la columna adicional \"posee_conectividad\"."
   ]
  },
  {
   "cell_type": "code",
   "execution_count": 3,
   "metadata": {},
   "outputs": [],
   "source": [
    "processing_functions.processing_2(CONNECTIVITY_PATH,CONNECTIVITY_MODIFIED_PATH)"
   ]
  },
  {
   "cell_type": "markdown",
   "metadata": {},
   "source": [
    "### $ Inciso-3 $ ### \n",
    "En el dataset de Lagos (C), se creará una nueva columna llamada 'Sup Tamaño' que contendrá datos cualitativos indicando el tamaño de cada lago en función de su superficie en kilómetros cuadrados (km²). Esta columna se completará con las palabras: \"chico\", \"medio\" o \"grande\", según los siguientes criterios:\n",
    "    \n",
    "    a. Lagos con una superficie menor o igual a 17 km² serán clasificados como \"chico\".\n",
    " \n",
    "    b. Lagos con una superficie mayor que 17 km² y menor o igual a 59 km² serán clasificados como \"medio\".\n",
    "    \n",
    "    c. Lagos con una superficie mayor a 59 km² serán clasificados como \"grande\". Además de transformar el campo de coordenadas actual, que sigue el formato estándar de grados, minutos y segundos (GMS), por ejemplo, 42°9'3\"S 71°38'59\"O, en dos campos separados para la latitud y longitud, añade dos nuevos campos para representar la latitud y longitud en formato de grados decimales (GD). Asegúrate de proporcionar la conversión correcta de GMS a GD para ambos campos. En el ejemplo mencionado el valor resultante debería ser-42.150833 para la latitud y-71.649722 para la longitud.\n",
    " \n",
    "Se propone la siguiente manera de resolverlo:\n",
    "\n",
    "1 - Se abre el archivo original en modo lectura, y un nuevo archivo que contendra los cambios en modo escritura. \n",
    "\n",
    "2 - Se crean constantes con el valor de las posiciones requeridas para que sea mas facil acceder a dichas posiciones del archivo.\n",
    "\n",
    "3 - Se agregan las nuevas columnas solicitadas.\n",
    "\n",
    "4 - En una estructura iterativa for, se recorre el archivo, agregando los valores que correspondan a las nuevas columnas.\n",
    "\n",
    "Uso de funciones: \n",
    "\n",
    "{definir_tamaño}\n",
    "\n",
    "    - Recibe un numero (la superficie del lago en km²).\n",
    "\n",
    "    - Si el numero es menor o igual a 17 .. retorna 'chico'.\n",
    "\n",
    "    - Si el numero es mayor a 17 y menor igual a 59 .. retorna 'medio'.\n",
    "\n",
    "    - Si el numero es mayor a 59 .. retorna 'grande'.\n",
    "\n",
    "Nota - Se asume que se recibe un numero y que este es mayor a 0.\n",
    "\n",
    "{calcular_coordenada}\n",
    "\n",
    "    - Recibe una coordenada de tipo string.\n",
    "\n",
    "    - Obtiene los grados, minutos y segundos de la coordenada y los guarda en una lista de tipo int.\n",
    "    \n",
    "    - Suma los valores obtenidos y retorna el resultado.\n",
    "\n",
    "Nota - Se asume que se recibe una coordenada valida."
   ]
  },
  {
   "cell_type": "code",
   "execution_count": 1,
   "metadata": {},
   "outputs": [
    {
     "ename": "NameError",
     "evalue": "name 'processing_functions' is not defined",
     "output_type": "error",
     "traceback": [
      "\u001b[1;31m---------------------------------------------------------------------------\u001b[0m",
      "\u001b[1;31mNameError\u001b[0m                                 Traceback (most recent call last)",
      "Cell \u001b[1;32mIn[1], line 1\u001b[0m\n\u001b[1;32m----> 1\u001b[0m \u001b[43mprocessing_functions\u001b[49m\u001b[38;5;241m.\u001b[39mprocessing_3(LAKES_PATH,LAKES_MODIFIED_PATH)\n",
      "\u001b[1;31mNameError\u001b[0m: name 'processing_functions' is not defined"
     ]
    }
   ],
   "source": [
    "processing_functions.processing_3(LAKES_PATH,LAKES_MODIFIED_PATH)"
   ]
  },
  {
   "cell_type": "markdown",
   "metadata": {},
   "source": [
    "### $ Inciso-4 $ ### \n",
    "- Para el dataset de Población del censo 2022 (D) reemplazar los valores \"///\" y \"-\" por\n",
    "cero en los campos que corresponda.\n",
    "- Además agregar un nuevo campo que tenga el porcentaje de población en situación\n",
    "de calle. Tener en cuenta el total general (NO tener en cuenta los totales por sexo\n",
    "registrado al nacer).\n",
    "\n",
    "### Resolucion:\n",
    "Dentro del main, se generan dos variables que guardaran las rutas de los archivos que se utilizaran, siendo el primero el DataSet dado y el segundo el archivo que guardara el nuevo dataset una vez procesado el primero. Ambas rutas son enviadas como parametros al metodo read_and_write localizado dentro del modulo Procesamientos.\n",
    "\n",
    "- read_and_write: Recibe dos rutas de archivos como parametro, una para el archivo CSV original y otra para el archivo CSV nuevo donde se agregará la columna con el porcentaje calculado. Lee el archivo original línea por línea, reemplaza los símbolos especiales en los datos (replace_simbols), calcula el porcentaje de personas sin hogar (calc_percentage) y escribe una nueva fila en el archivo nuevo con los datos originales y la columna adicional con el porcentaje.\n",
    "\n",
    "- replace_simbols: Recibe una lista como parametro y devuelve una nueva lista donde todos los elementos que sean '///' o '-' se reemplazan por '0'.\n",
    "\n",
    "- calc_percentage: Recibe la población total y la cantidad de personas en situación de calle como parametros y devuelve el porcentaje calculado."
   ]
  },
  {
   "cell_type": "code",
   "execution_count": 5,
   "metadata": {},
   "outputs": [],
   "source": [
    "processing_functions.processing_4(POPULATION_PATH,POPULATION_MODIFIED_PATH)"
   ]
  }
 ],
 "metadata": {
  "kernelspec": {
   "display_name": "Python 3 (ipykernel)",
   "language": "python",
   "name": "python3"
  },
  "language_info": {
   "codemirror_mode": {
    "name": "ipython",
    "version": 3
   },
   "file_extension": ".py",
   "mimetype": "text/x-python",
   "name": "python",
   "nbconvert_exporter": "python",
   "pygments_lexer": "ipython3",
   "version": "3.12.0"
  },
  "polyglot_notebook": {
   "kernelInfo": {
    "defaultKernelName": "csharp",
    "items": [
     {
      "aliases": [],
      "name": "csharp"
     }
    ]
   }
  }
 },
 "nbformat": 4,
 "nbformat_minor": 4
}
