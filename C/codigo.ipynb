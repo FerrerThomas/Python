{
 "cells": [
  {
   "cell_type": "code",
   "execution_count": 1,
   "metadata": {},
   "outputs": [
    {
     "name": "stdout",
     "output_type": "stream",
     "text": [
      " \n",
      "{'nombre': 'Marcos Fava', 'es_solista': True, 'ciudad': 'La Plata', 'pais': 'Argentina', 'ref': 'https://open.spotify.com/intl-es/artist/2risap4rX5qNM54Gdiiuf1'} "
     ]
    }
   ],
   "source": [
    "from collections import Counter\n",
    "import json\n",
    "def my_function(file):\n",
    "    data = json.load(file)\n",
    "    artists= filter(lambda x: x[\"ciudad\"]==\"La Plata\", data)\n",
    "    return artists\n",
    "\n",
    "from pathlib import Path\n",
    "fileName= Path('archivos') / 'musica.json'\n",
    "file= open(fileName)\n",
    "my_songs= my_function(file)\n",
    "\n",
    "for song in my_songs:\n",
    "    print(f\"\\n{song}\" if song[\"es_solista\"] else \"\", end=\" \")"
   ]
  },
  {
   "cell_type": "markdown",
   "metadata": {},
   "source": [
    "---"
   ]
  },
  {
   "cell_type": "code",
   "execution_count": 2,
   "metadata": {},
   "outputs": [
    {
     "name": "stdout",
     "output_type": "stream",
     "text": [
      " \n",
      "{'nombre': 'Marcos Fava', 'es_solista': True, 'ciudad': 'La Plata', 'pais': 'Argentina', 'ref': 'https://open.spotify.com/intl-es/artist/2risap4rX5qNM54Gdiiuf1'} \n",
      "{'nombre': 'Ed Sheeran', 'es_solista': True, 'ciudad': 'Halifax', 'pais': 'Reino Unido', 'ref': 'https://open.spotify.com/intl-es/artist/6eUKZXaKkcviH0Ku9w2n3V'} "
     ]
    }
   ],
   "source": [
    "from collections import Counter\n",
    "import json\n",
    "def my_function(file, *citys):\n",
    "    data = json.load(file)\n",
    "    artists= filter(lambda x: x[\"ciudad\"] in citys, data)\n",
    "    return artists\n",
    "\n",
    "from pathlib import Path\n",
    "fileName= Path('archivos') / 'musica.json'\n",
    "file= open(fileName)\n",
    "my_songs= my_function(file, \"La Plata\", \"Halifax\")\n",
    "\n",
    "for song in my_songs:\n",
    "    print(f\"\\n{song}\" if song[\"es_solista\"] else \"\", end=\" \")"
   ]
  },
  {
   "cell_type": "markdown",
   "metadata": {},
   "source": [
    "---"
   ]
  },
  {
   "cell_type": "markdown",
   "metadata": {},
   "source": [
    "Con if-else\n"
   ]
  },
  {
   "cell_type": "code",
   "execution_count": 7,
   "metadata": {},
   "outputs": [
    {
     "name": "stdout",
     "output_type": "stream",
     "text": [
      " \n",
      "{'nombre': 'Marcos Fava', 'es_solista': True, 'ciudad': 'La Plata', 'pais': 'Argentina', 'ref': 'https://open.spotify.com/intl-es/artist/2risap4rX5qNM54Gdiiuf1'} "
     ]
    }
   ],
   "source": [
    "from collections import Counter\n",
    "import json\n",
    "def my_function(file, *citys):\n",
    "    data = json.load(file)\n",
    "    if citys:\n",
    "        artists= filter(lambda x: x[\"ciudad\"] in citys, data)\n",
    "    else:\n",
    "        artists= data\n",
    "    return artists\n",
    "\n",
    "from pathlib import Path\n",
    "fileName= Path('archivos') / 'musica.json'\n",
    "file= open(fileName)\n",
    "my_songs= my_function(file)\n",
    "\n",
    "for song in my_songs:\n",
    "    print(f\"\\n{song}\" if song[\"es_solista\"] else \"\", end=\" \")"
   ]
  },
  {
   "cell_type": "markdown",
   "metadata": {},
   "source": [
    "---"
   ]
  },
  {
   "cell_type": "markdown",
   "metadata": {},
   "source": [
    "- b) La función modificada en el punto anterior ¿con cuántos parámetros obligatorios se puede\n",
    "invocar?¿Y opcionales? Ejecutá el código mostrando que esto funciona según lo pedido."
   ]
  },
  {
   "cell_type": "markdown",
   "metadata": {},
   "source": [
    "- C) ¿Dónde debe estar ubicado el archivo para que no se produzca una excepción al ejecutar la\n",
    "función open? Si el archivo no puede abrirse o no tiene el formato JSON el programa igualmente da\n",
    "error. Mostrá la ejecución del programa donde pueda verser esta situación. Agregá los manejadores\n",
    "de excepciones necesarios para que esto no suceda. Volvé a ejecutar el código mostrando la solución"
   ]
  },
  {
   "cell_type": "code",
   "execution_count": 4,
   "metadata": {},
   "outputs": [
    {
     "name": "stdout",
     "output_type": "stream",
     "text": [
      "ERROR: El archivo {file.name} no tiene formato json\n"
     ]
    }
   ],
   "source": [
    "from collections import Counter\n",
    "import json\n",
    "def my_function(file, *citys):\n",
    "    try:\n",
    "        data = json.load(file)\n",
    "        if citys:\n",
    "            artists= filter(lambda x: x[\"ciudad\"] in citys, data)\n",
    "        else:\n",
    "            artists= data\n",
    "        return artists\n",
    "    except json.JSONDecodeError:\n",
    "        print('ERROR: El archivo {file.name} no tiene formato json')\n",
    "        return []\n",
    "\n",
    "from pathlib import Path\n",
    "fileName= Path('archivos') / 'musica.txt'\n",
    "#fileName= Path('archivos') / 'musica.json'\n",
    "try:    \n",
    "    file= open(fileName)\n",
    "    my_songs= my_function(file, \"La Plata\")\n",
    "\n",
    "    for song in my_songs:\n",
    "        print(f\"\\n{song}\" if song[\"es_solista\"] else \"\", end=\" \")\n",
    "             \n",
    "except FileNotFoundError:\n",
    "    print('ERROR: No se puedo encontrar el archivo {file.name}') "
   ]
  },
  {
   "cell_type": "markdown",
   "metadata": {},
   "source": [
    "---"
   ]
  },
  {
   "cell_type": "markdown",
   "metadata": {},
   "source": [
    "- (d) ¿Cómo podrías utilizar las cláusulas else o finally en el manejo de exceciones?\n",
    "ACLARACIÓN: no es necesario que hagas la modificación."
   ]
  },
  {
   "cell_type": "code",
   "execution_count": 5,
   "metadata": {},
   "outputs": [
    {
     "name": "stdout",
     "output_type": "stream",
     "text": [
      "ERROR: El archivo no tiene formato json\n",
      "\n",
      " Termino el procesamiento del archivo\n"
     ]
    }
   ],
   "source": [
    "from collections import Counter\n",
    "import json\n",
    "\n",
    "def my_function(file, *citys):\n",
    "    try:\n",
    "        data = json.load(file)\n",
    "        if citys:\n",
    "            artists= filter(lambda x: x[\"ciudad\"] in citys, data)\n",
    "        else:\n",
    "            artists= data\n",
    "        return artists\n",
    "    except json.JSONDecodeError:\n",
    "        print(f'ERROR: El archivo no tiene formato json')\n",
    "        return []\n",
    "\n",
    "\n",
    "from pathlib import Path\n",
    "file_name= Path('archivos') / 'musica.txt'\n",
    "#fileName= Path('archivos') / 'musica.json'\n",
    "try:    \n",
    "    file= open(fileName)\n",
    "    my_songs= my_function(file)\n",
    "\n",
    "    for song in my_songs:\n",
    "        print(f\"\\n{song}\" if song[\"es_solista\"] else \"\", end=\" \")\n",
    "             \n",
    "except FileNotFoundError:\n",
    "    print(f'ERROR: No se puedo encontrar el archivo ')    \n",
    "else:\n",
    "    print('\\n Termino el procesamiento del archivo')\n",
    "finally:\n",
    "    file.close()"
   ]
  },
  {
   "cell_type": "markdown",
   "metadata": {},
   "source": [
    "---"
   ]
  },
  {
   "cell_type": "markdown",
   "metadata": {},
   "source": [
    "- (e) ¿Cuál es tipo de dato de la variable my_songs? Si quisiéramos acceder a su contenido en\n",
    "otras partes del código y recorrerla más de una vez, ¿qué solución proponés? ACLARACIÓN:\n",
    "no es necesario que hagas la modificación."
   ]
  },
  {
   "cell_type": "code",
   "execution_count": 6,
   "metadata": {},
   "outputs": [],
   "source": [
    "song_list = list(my_songs)"
   ]
  },
  {
   "cell_type": "markdown",
   "metadata": {},
   "source": [
    "---"
   ]
  },
  {
   "cell_type": "markdown",
   "metadata": {},
   "source": [
    "2. Interactúa con ChatGPT con las siguientes consignas\n",
    "- Verificá el cumplimiento de la PEP 8 tanto del código original, como el tuyo.\n",
    "- Mostrá los resultados indicando qué reglas aparecen y por qué no se cumplen.\n"
   ]
  }
 ],
 "metadata": {
  "kernelspec": {
   "display_name": "Python 3",
   "language": "python",
   "name": "python3"
  },
  "language_info": {
   "codemirror_mode": {
    "name": "ipython",
    "version": 3
   },
   "file_extension": ".py",
   "mimetype": "text/x-python",
   "name": "python",
   "nbconvert_exporter": "python",
   "pygments_lexer": "ipython3",
   "version": "3.11.9"
  }
 },
 "nbformat": 4,
 "nbformat_minor": 2
}
